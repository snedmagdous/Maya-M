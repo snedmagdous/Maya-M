{
  "cells": [
    {
      "cell_type": "markdown",
      "metadata": {
        "id": "view-in-github",
        "colab_type": "text"
      },
      "source": [
        "<a href=\"https://colab.research.google.com/github/snedmagdous/Maya-M/blob/main/a0.ipynb\" target=\"_parent\"><img src=\"https://colab.research.google.com/assets/colab-badge.svg\" alt=\"Open In Colab\"/></a>"
      ]
    },
    {
      "cell_type": "markdown",
      "metadata": {
        "id": "Xd5QC26MohA1"
      },
      "source": [
        "## [A0] Getting (to know) the Kardashians: From raw transcripts to information!\n",
        "\n",
        "INFO/CS 4300, spring 2024\n",
        "\n",
        "<br/>\n",
        "\n",
        "<div align=\"center\">\n",
        "    <img src=\"https://catandgirl.com/wp-content/uploads/2010/06/2010-06-04-cgtalk.gif\" width=\"600\"/>\n",
        "    <br/>\n",
        "    Source: <a href=\"https://catandgirl.com/silent-spring/\">\n",
        "\"<i>Silent Spring</i>\" (Cat and Girl) by Dorothy Gambrell</a>\n",
        "    <br/>\n",
        "    (Distributed under CC BY-NC-SA 2.5 US.)\n",
        "</div>\n",
        "\n",
        "<br/>\n",
        "\n",
        "No part (code, documentation, comments, etc.) of this notebook or any assignment-related artefacts were generated/created, refined, or modified using generative AI tools such as ChatGPT. Cite this notebook as:\n",
        "> Tushaar Gangavarapu and Cristian Danescu-Niculescu-Mizil. 2024. INFO/CS 4300 Sp'24 A0: Getting (to know) the Kardashians: From raw transcripts to information! GitHub. https://github.coecis.cornell.edu/cs4300-sp24-public/a0/.\n",
        "\n",
        "__Acknowledgments.__ This work is inspired by the assignment \"Getting (to know) the Kardashians\" developed, tested, and updated by the course staff from previous runs of the course."
      ],
      "id": "Xd5QC26MohA1"
    },
    {
      "cell_type": "markdown",
      "metadata": {
        "id": "jCVVJdN8sqHO"
      },
      "source": [
        "---\n",
        "\n",
        "__Deadlines__\n",
        "\n",
        "Follow [Ed #4](https://edstem.org/us/courses/53550/discussion/4170989) for all updates on the assignment; it can be misleading to just follow the \"git commit\" trail. A few notes:\n",
        "* Assignment submission deadline: <font color=\"red\">January 26, 2024</font> (Friday), 11.59pm on the submission site(s).\n",
        "* This is an _individual_ component (i.e., not to be done in teams), and the use of generative AI tools is prohibited."
      ],
      "id": "jCVVJdN8sqHO"
    },
    {
      "cell_type": "markdown",
      "source": [
        "__Documentation.__ For your convenience, we're maintaining a documentation of all the modules and scripts used in this assignment at: https://pages.github.coecis.cornell.edu/cs4300/a0/."
      ],
      "metadata": {
        "id": "jAacu7ZZzMfq"
      },
      "id": "jAacu7ZZzMfq"
    },
    {
      "cell_type": "markdown",
      "metadata": {
        "id": "CTDqQFFy6J8N"
      },
      "source": [
        "__Learning outcomes__\n",
        "\n",
        "The goal of this assignment is to familiarize yourself with the structure of the data you will be analyzing in the upcoming assignments. To this end, you will:\n",
        "* (understand how to work with Colab, GitHub, and other tools,)\n",
        "* process raw transcript data to enable meaningful analyses, and\n",
        "* draw basic inferences from the processed data.\n",
        "\n"
      ],
      "id": "CTDqQFFy6J8N"
    },
    {
      "cell_type": "markdown",
      "metadata": {
        "id": "K0TK5EeT6Mex"
      },
      "source": [
        "__Policies.__ All the policies described on the course website are applicable as is (including the policy on academic integrity and the use of generative AI tools), for more information, see: https://canvas.cornell.edu/courses/62833/."
      ],
      "id": "K0TK5EeT6Mex"
    },
    {
      "cell_type": "markdown",
      "metadata": {
        "id": "D4isWJE_6Phg"
      },
      "source": [
        "---\n",
        "\n",
        "<a name=\"outline\"></a>__Assignment outline__\n",
        "\n",
        "* [[$\\ast$] Attributions](#attr)\n",
        "* [[0] Imports and installs!](#sec0)\n",
        "* [[1] Data processing: Extracting information from raw transcripts](#sec1)\n",
        "  * [[1.1] Preprocessing for \"valid\" dialogue](#sec11)\n",
        "  * [[1.2] Preprocessing transcripts for analysis](#sec12)\n",
        "* [[2] Well, _how much_ does a Kardashian talk!?](#sec2)\n",
        "* [[$\\ast$] Final submission](#final) ← Gradescope autograder provided! <a name=\"footnote1\"></a>[<sup>[1]</sup>](#autograder)\n",
        "\n",
        "> <a name=\"autograder\"></a><sup>[1] </sup>Passing the autograder doesn't guarantee the full correctness of the tested components (you should be writing your own test cases to ensure that!). Post final submission, your code will be tested on several additional test cases. [↩︎](#footnote1)"
      ],
      "id": "D4isWJE_6Phg"
    },
    {
      "cell_type": "markdown",
      "metadata": {
        "id": "2SW-iTqO6SJp"
      },
      "source": [
        "---\n",
        "<a name=\"attr\"></a>\n",
        "### [$\\ast$] Attributions [↩︎](#outline)\n",
        "\n",
        "Use the space provided below to acknowledge (by name/source) all the resources you consulted in solving this assignment. (Please beware that this assignment is an _individual_ component, i.e., collaboration with other students in the class constitutes a violation of academic integrity.)"
      ],
      "id": "2SW-iTqO6SJp"
    },
    {
      "cell_type": "markdown",
      "metadata": {
        "id": "Nd_5kLfH6U0O"
      },
      "source": [
        "_Attributions (if any) go here._"
      ],
      "id": "Nd_5kLfH6U0O"
    },
    {
      "cell_type": "markdown",
      "metadata": {
        "id": "Dvo4tMHv6XJa"
      },
      "source": [
        "---\n",
        "<a name=\"sec0\"></a>\n",
        "### [0] Imports and installs! [↩︎](#outline)\n",
        "\n",
        "Assuming that you've followed [setup.ipynb](https://github.coecis.cornell.edu/cs4300-sp24-public/a0/blob/main/notebooks/setup.ipynb) and successfully set up the `CS4300/a0` folder, the following code will install any external libraries and needed packages to run the assignment (takes ~1 minute). Before proceeding, be sure to run the second code cell to ensure that the installation is successful.\n",
        "\n",
        "> __Tip__. We're using Colab to conveniently avoid installing standard packages; you don't need GPUs for this assignment—to avoid accidentally \"running out of GPU cycles,\" please change your runtype accordingly."
      ],
      "id": "Dvo4tMHv6XJa"
    },
    {
      "cell_type": "code",
      "execution_count": 1,
      "metadata": {
        "id": "996ce64a-64ca-4585-bf53-9384f28a316e",
        "colab": {
          "base_uri": "https://localhost:8080/"
        },
        "outputId": "2408c543-87c9-4235-93ed-0478f531e585"
      },
      "outputs": [
        {
          "output_type": "stream",
          "name": "stdout",
          "text": [
            "Mounted at /content/drive\n",
            "/content/drive/MyDrive/CS4300/a0\n"
          ]
        }
      ],
      "source": [
        "from google.colab import drive\n",
        "drive.mount(\"/content/drive\")\n",
        "\n",
        "%cd \"/content/drive/MyDrive/CS4300/a0\"\n",
        "\n",
        "from colab.file_utils import load_required\n",
        "load_required()"
      ],
      "id": "996ce64a-64ca-4585-bf53-9384f28a316e"
    },
    {
      "cell_type": "code",
      "execution_count": 2,
      "metadata": {
        "id": "Ihfi3Rn8nVpp",
        "colab": {
          "base_uri": "https://localhost:8080/",
          "height": 279
        },
        "outputId": "5daa620a-d689-4e3e-e826-23219bd8bbab"
      },
      "outputs": [
        {
          "output_type": "stream",
          "name": "stdout",
          "text": [
            "\u001b[92mSuccess!\n",
            "\u001b[0m"
          ]
        },
        {
          "output_type": "display_data",
          "data": {
            "text/plain": [
              "<IPython.core.display.HTML object>"
            ],
            "text/html": [
              "<video alt=\"success, happy puppy!\" width=\"400\" height=\"240\" controls autoplay=1>\n",
              "                <source src=\"https://openpuppies.com/mp4/UNIBvxI.mp4\" type=\"video/mp4\"/> \n",
              "            </video>"
            ]
          },
          "metadata": {}
        }
      ],
      "source": [
        "from IPython.display import display\n",
        "\n",
        "try:\n",
        "    from src.utils.utils import success, colored\n",
        "    display(success())\n",
        "except ImportError:\n",
        "    print(\"\\033[31mInstallation failed, please retrace your steps ...\")"
      ],
      "id": "Ihfi3Rn8nVpp"
    },
    {
      "cell_type": "markdown",
      "source": [
        "Let's import a few packages and methods that are used throughout this notebook; in this notebook, you are free to import and/or install packages (a lot of the packages you may need should already be available) as you see fit. <font color=\"red\">That said, you are __not__ allowed to modify the imports in any of the Python source files; furthermore, please do not modify (delete lines, change method signatures, etc.) above or below the `TODO` placeholders within the Python source files.</font>"
      ],
      "metadata": {
        "id": "Mw9bzp8UZrib"
      },
      "id": "Mw9bzp8UZrib"
    },
    {
      "cell_type": "code",
      "execution_count": 3,
      "metadata": {
        "id": "vIcCjy_1ni9b"
      },
      "outputs": [],
      "source": [
        "import os\n",
        "import pprint as pp\n",
        "import random\n",
        "from glob import glob\n",
        "from time import process_time\n",
        "\n",
        "import bs4\n",
        "from IPython.display import HTML\n",
        "\n",
        "from src.data_processing.analysis import replace_speaker_name, num_episodes, num_speaker_utterances\n",
        "from src.data_processing.transcript_parser import KardashiansTranscriptParser\n",
        "from src.utils.utils import save_dict_to_json, load_dict_from_json"
      ],
      "id": "vIcCjy_1ni9b"
    },
    {
      "cell_type": "markdown",
      "source": [
        "Next, let's set up a few filepaths: for convenience, we will redirect all the output artefacts to `CS4300/a0/artefacts` folder—this includes processed data, submission .zip files, and others."
      ],
      "metadata": {
        "id": "gfq_KLdUgRDq"
      },
      "id": "gfq_KLdUgRDq"
    },
    {
      "cell_type": "code",
      "execution_count": 4,
      "metadata": {
        "id": "6usK7xWSn6SZ"
      },
      "outputs": [],
      "source": [
        "BASE_DIR = os.path.abspath(\".\")\n",
        "\n",
        "DATASET_DIR = os.path.join(BASE_DIR, \"dataset\")\n",
        "ARTEFACTS_DIR = os.path.join(BASE_DIR, \"artefacts\")\n",
        "SCRIPTS_DIR = os.path.join(BASE_DIR, \"scripts\")"
      ],
      "id": "6usK7xWSn6SZ"
    },
    {
      "cell_type": "markdown",
      "source": [
        "Finally, set your net ID below as a string (e.g., \"tg352\"); we'll use the `net_id` variable to auto-populate any information required in making the submission. Please __don't__ include any special characters (e.g., using \"\\<tg352\\>\" or \"[tg352]\" will result in processing errors)."
      ],
      "metadata": {
        "id": "aMDpHDJ9gms3"
      },
      "id": "aMDpHDJ9gms3"
    },
    {
      "cell_type": "code",
      "execution_count": 5,
      "metadata": {
        "id": "HrNdCWKknom9",
        "colab": {
          "base_uri": "https://localhost:8080/"
        },
        "outputId": "c3076363-aeae-4e94-8f0a-8dd1b3f258fa"
      },
      "outputs": [
        {
          "output_type": "stream",
          "name": "stdout",
          "text": [
            "net_id='mmm443' set\n"
          ]
        }
      ],
      "source": [
        "net_id = \"mmm443\"\n",
        "\n",
        "if net_id is None:\n",
        "    raise ValueError(\"net-ID not set; set it above\")\n",
        "print(f\"{net_id=} set\")"
      ],
      "id": "HrNdCWKknom9"
    },
    {
      "cell_type": "markdown",
      "metadata": {
        "id": "1Do1UCoB55Gv"
      },
      "source": [
        "---\n",
        "\n",
        "<a name=\"sec1\"></a>\n",
        "### [1] Data processing: Extracting information from raw transcripts <small>[↩︎](#outline)</small>\n",
        "\n",
        "> __Note.__ There's no code to be written/edited by you in this section (we've done all the work for you!). That said, please peruse this section carefully; you'll need to understand what's done in this section to solve [the next section](#sec2).\n",
        "\n",
        "Transcripts of the TV show: [Keeping Up with the Kardashians](https://en.wikipedia.org/wiki/Keeping_Up_with_the_Kardashians) are available online, and have been downloaded and provided to you in a .html format (under the `dataset/` folder). However, in their \"raw\" format, they're quite unusable; let's see how to process them for analysis!\n",
        "\n",
        "We will be using [BeautifulSoup](https://beautiful-soup-4.readthedocs.io/en/latest/) Python library to work with .html files. Let us choose a random transcript and see what it looks like:"
      ],
      "id": "1Do1UCoB55Gv"
    },
    {
      "cell_type": "code",
      "execution_count": 6,
      "metadata": {
        "id": "vUz2iqQeoHXh",
        "colab": {
          "base_uri": "https://localhost:8080/"
        },
        "outputId": "9377c83c-91f6-474d-abc3-afb810c9a901"
      },
      "outputs": [
        {
          "output_type": "stream",
          "name": "stdout",
          "text": [
            "<!DOCTYPE html PUBLIC \"-//W3C//DTD HTML 4.01 Transitional//EN\" \"http://www.w3.org/TR/html4/loose.dtd\">\n",
            "\n",
            "<html>\n",
            "<head>\n",
            "<meta content=\"text/html; charset=utf-8\" http-equiv=\"Content-Type\"/>\n",
            "<title>Keeping Up With the Kardashians - A New Perspective in New Orleans - Friday, Nov 19, 2010 - mReplay Livedash TV Transcript - Livedash - Search what is being mentioned across national TV</title>\n",
            "<meta content=\"mReplay Livedash TV Transcript - Keeping Up With the Kardashians - A New Perspective in New Orleans.  Aired on EP, Friday, Nov 19, 2010 at 05:30 PM\" name=\"description\"/>\n",
            "<meta content=\"mReplay, Livedash, TV, Transcript, Keeping Up With the Kardashians - A New Perspective in New Orleans, EP, Friday, Nov 19, 2010, 05:30 PM\" name=\"keywords\"/>\n",
            "<meta content=\"IE=EmulateIE7\" http-equiv=\"X-UA-Compatible\"/>\n",
            "<style type=\"text/css\">\n",
            "</style>\n",
            "<script type=\"text/javascript\">\n",
            "    var tabberOptions = {manualStartup:true};\n",
            "    </script>\n",
            "<script>\n",
            "    var RecaptchaOptions = {\n",
            "       theme : 'white'\n",
            "    };\n",
            "    </script>\n",
            "<script src=\"http://www.livedash.com/js/tabber.js\" type=\"text/javascript\"></script>\n",
            "<script src=\"http://www.livedash.com/js/prototype.js\" type=\"text/javascript\"></script>\n",
            "<script src=\"http://www.livedash.com/js/scriptaculous.js?load=effects,controls\" type=\"text/javascript\"></script>\n",
            "<script src=\"http://www.livedash.com/js/search.js\" type=\"text/javascript\"></script>\n",
            "<script src=\"http://www.livedash.com/js/landing.js\" type=\"text/javascript\"></script>\n",
            "<script>\n",
            "    var Timeline_ajax_url=\"http://www.livedash.com/js/timeline/timeline_ajax/simile-ajax-api.js\";\n",
            "    var  Timeline_urlPrefix='http://www.livedash.com/js/timeline/timeline_js/';       \n",
            "    var   Timeline_parameters='bundle=true';\n",
            "    </script>\n",
            "<script src=\"http://www.livedash.com/js/timeline/timeline_js/timeline-api.js\" type=\"text/javascript\">\n",
            "</script>\n",
            "<script src=\"http://www.livedash.com/js/voogle_search.js\" type=\"text/javascript\"></script>\n",
            "<script type=\"text/javascript\">\n",
            "    var GB_ROOT_DIR = \"http://www.livedash.com/js/greybox/\";\n",
            "    </script>\n",
            "<script src=\"http://www.livedash.com/js/greybox/AJS.js\" type=\"text/javascript\"></script>\n",
            "<script src=\"http://www.livedash.com/js/greybox/AJS.js\" type=\"text/javascript\"></script>\n",
            "<script src=\"http://www.livedash.com/js/greybox/AJS_fx.js\" type=\"text/javascript\"></script>\n",
            "<script src=\"http://www.livedash.com/js/greybox/gb_scripts.js\" type=\"text/javascript\"></script>\n",
            "<link href=\"http://www.livedash.com/js/greybox/gb_styles.css\" rel=\"stylesheet\" type=\"text/css\"/>\n",
            "<link href=\"http://www.livedash.com/css/search.css\" rel=\"stylesheet\" type=\"text/css\"/>\n",
            "</head>\n",
            "<body onload=\"timeline_load('show_name=keeping_up_with_the_kardashians-%28a_new_perspective_in_new_orleans%29&amp;channel=67&amp;id=514592&amp;CLIPSHARE_SESSION=q99cuvd2rbngs4omni6k8l1ts7&amp;__utma=231985410.1350912046.1322332618.1322335292.1322348703.3&amp;__utmc=231985410&amp;__utmz=231985410.1322332618.1.1.utmcsr%3D%28direct%29%7Cutmccn%3D%28direct%29%7Cutmcmd%3D%28none%29&amp;transcript_query=&amp;transcript_start=&amp;query=&amp;');tabberAutomatic({});\" onresize=\"onResize()\">\n",
            "<!--<script type='text/javascript' src='http://www.livedash.com/js/wz_tooltip.js'></script>-->\n",
            "<div style=\"background:transparent url(http://www.livedash.com/images/search/top-black.gif) repeat-x scroll 0 0;width:100%\">\n",
            "<div id=\"newmenudo\">\n",
            "<ul class=\"grandpappy\" id=\"nav\">\n",
            "<li class=\"firstborn help\">\n",
            "<div id=\"search_wrap\">\n",
            "<form action=\"http://www.livedash.com/search_tv.php\" id=\"search_form\" method=\"get\">\n",
            "<span id=\"search_bg\" style=\"background-image: url(http://www.livedash.com/images/search/voogle-search-sm.png);\">\n",
            "<input autocomplete=\"off\" class=\"search_text\" id=\"search_text\" maxlength=\"250\" name=\"q\" type=\"text\" value=\"\"/>\n",
            "<img id=\"loading_icon\" src=\"http://www.livedash.com/images/search/18px.gif\" style=\"margin-top:2px;vertical-align:middle;margin-right:0px;visibility: hidden;\"/>\n",
            "</span>\n",
            "<div class=\"autocomplete\" id=\"autocomplete_choices_small\"></div>\n",
            "</form></div>\n",
            "<input class=\"search\" name=\"sa\" onclick=\"$('loading_icon').style.visibility='visible';return true;\" onmousedown=\"change_button_background(this,'http://www.livedash.com/images/search/search-3.gif');\" onmouseout=\"change_button_background(this,'http://www.livedash.com/images/search/search-1.gif');\" onmouseover=\"change_button_background(this,'http://www.livedash.com/images/search/search-2.gif');\" style=\"background:url(http://www.livedash.com/images/search/search-1.gif) no-repeat\" title=\"Search\" type=\"submit\" value=\"Search\"/>\n",
            "<input name=\"cx\" type=\"hidden\" value=\"partner-pub-3300760009941566:6smplo1tn23\">\n",
            "<input name=\"cof\" type=\"hidden\" value=\"FORID:10\"/>\n",
            "<input name=\"ie\" type=\"hidden\" value=\"ISO-8859-1\"/>\n",
            "<input name=\"hq\" type=\"hidden\" value=\"more:recent4\"/>\n",
            "<img src=\"http://www.livedash.com/images/search/search-2.gif\" style=\"display:none;\"/>\n",
            "<img src=\"http://www.livedash.com/images/search/search-3.gif\" style=\"display:none;\"/>\n",
            "\n",
            "<!--\n",
            "                    <form method=\"get\" action=\"http://www.livedash.com/search_tv.php\" id=\"search_form\">\n",
            "                    \n",
            "                        <span id=\"search_bg\" style=\"background-image: url(http://www.livedash.com/images/search/voogle-search-sm.png);\">\n",
            "                            <input id=\"search_text\" type=\"text\" autocomplete=\"off\" maxlength=\"250\" value=\"\" name=\"query\" class=\"search_text\" />\n",
            "                            <img id=\"loading_icon\" src=\"http://www.livedash.com/images/search/18px.gif\" style=\"margin-top:2px;vertical-align:middle;margin-right:0px;visibility: hidden;\" id=\"loading_icon\"/>\n",
            "                        </span>\n",
            "                        <div id=\"autocomplete_choices_small\" class=\"autocomplete\"></div>\n",
            "                    </div> \n",
            "                    <input value=\"\" type=\"submit\" title=\"Search\"  onmouseover=\"change_button_background(this,'http://www.livedash.com/images/search/search-2.gif');\"  onmouseout=\"change_button_background(this,'http://www.livedash.com/images/search/search-1.gif');\" onmousedown=\"change_button_background(this,'http://www.livedash.com/images/search/search-3.gif');\" onclick=\"$('loading_icon').style.visibility='visible';return true;\" class=\"search\" style=\"background:url(http://www.livedash.com/images/search/search-1.gif) no-repeat\">\n",
            "                    \n",
            "                    <img src=\"http://www.livedash.com/images/search/search-2.gif\" style=\"display:none;\"    />\n",
            "                    <img src=\"http://www.livedash.com/images/search/search-3.gif\" style=\"display:none;\"    />\n",
            "                    \n",
            "                    \n",
            "                    </form>                                                                 \n",
            "                        -->\n",
            "</input></li>\n",
            "<li class=\"firstborn space\" id=\"menudo_register\">\n",
            "<img alt=\"loading\" id=\"loading_icon\" src=\"http://www.livedash.com/images/search/loading.gif\" style=\"visibility:hidden\"/>\n",
            "</li>\n",
            "<li class=\"firstborn logo\" style=\"float:right; color:#3399FE; width: 400px;\">\n",
            "<div style=\"width:400px; text-align:right; padding-right: 20px; margin-top:10px;\">\n",
            "<a href=\"http://www.livedash.com/login.php\" style=\"font-weight: bold\">Enterprise users, login for video or API access &gt; </a>\n",
            "</div>\n",
            "</li>\n",
            "</ul>\n",
            "<div style=\"clear:both\"></div>\n",
            "</div>\n",
            "</div>\n",
            "<div style=\"clear:both\"></div>\n",
            "<script>\n",
            "    \n",
            "    \n",
            "    \n",
            "    function autocomplete_submit(input, string)\n",
            "    {\n",
            "    //    $('fld').value = input.value;\n",
            "        $('loading_icon').style.visibility='visible';\n",
            "        $('search_form').submit();\n",
            "    }\n",
            "    \n",
            "    \n",
            "    \n",
            "    new Ajax.Autocompleter(\"search_text\", \"autocomplete_choices_small\", \"http://www.livedash.com/autocomplete.php\", {afterUpdateElement:autocomplete_submit});    \n",
            "    </script>\n",
            "<script>\n",
            "    $$('#tbl_tabs a').each(function(item){\n",
            "        \n",
            "        item.observe('click',show_loading);\n",
            "    });\n",
            "    \n",
            "    </script>\n",
            "<style type=\"text/css\">\n",
            "        #bdy {top:76px;}\n",
            "    </style>\n",
            "<div id=\"return_msg\" style=\"width:100%;display:none\">\n",
            "<div class=\"rounded_box\" id=\"return_msg_rounded_box\" style=\"margin:0 auto;width:400px;\"><div class=\"top-left\"></div>\n",
            "<div class=\"top-right\"></div>\n",
            "<div class=\"inside\" id=\"return_msg_inside\" style=\"text-align:center;font-weight:bold;\">\n",
            "<script>\n",
            "                        setTimeout(\"$('return_msg_rounded_box').fade()\",6000);\n",
            "                        \n",
            "                        </script>\n",
            "</div>\n",
            "<div class=\"bottom-left\"></div>\n",
            "<div class=\"bottom-right\"></div>\n",
            "</div>\n",
            "</div>\n",
            "\n",
            "<div style=\"position:static\">\n",
            "<div class=\"transcript_box\" id=\"bdy\" style=\"overflow-y:scroll; overflow-x:hidden\">\n",
            "<script>\n",
            "\n",
            "/*\n",
            "\t// Change background colour\n",
            "Timeline.GregorianEtherPainter.prototype.initialize = function(band, timeline) {\n",
            "    this._band = band;\n",
            "    this._timeline = timeline;\n",
            "    \n",
            "    this._backgroundLayer = band.createLayerDiv(0);\n",
            "    this._backgroundLayer.setAttribute(\"name\", \"ether-background\"); // for debugging\n",
            "    this._backgroundLayer.className = 'timeline-ether-bg';\n",
            "    this._backgroundLayer.style.background = this._theme.ether.backgroundColors[band.getIndex()];\n",
            "\n",
            "    \n",
            "    this._markerLayer = null;\n",
            "    this._lineLayer = null;\n",
            "    \n",
            "    var align = (\"align\" in this._params && this._params.align != undefined) ? this._params.align : \n",
            "        this._theme.ether.interval.marker[timeline.isHorizontal() ? \"hAlign\" : \"vAlign\"];\n",
            "    var showLine = (\"showLine\" in this._params) ? this._params.showLine : \n",
            "        this._theme.ether.interval.line.show;\n",
            "        \n",
            "    this._intervalMarkerLayout = new Timeline.EtherIntervalMarkerLayout(\n",
            "        this._timeline, this._band, this._theme, align, showLine);\n",
            "        \n",
            "    this._highlight = new Timeline.EtherHighlight(\n",
            "        this._timeline, this._band, this._theme, this._backgroundLayer);\n",
            "}\n",
            "\n",
            " \n",
            "   Timeline.OriginalEventPainter.prototype._showBubble = function(x, y, evt) {\n",
            "   \twindow.location.hash = \tevt.getDescription();\n",
            "   }\n",
            "   \n",
            "    var theme = Timeline.ClassicTheme.create();\n",
            "\t//theme.ether.mouseWheel = 'zoom';\n",
            "\t//theme.event.bubble.width = 500;\n",
            "\t\n",
            "\ttheme.ether.backgroundColors = [\"#FFFFFF\",\"#DDDDDD\"];\n",
            "\ttheme.ether.highlightColor = \"#FFFFFF\";\n",
            "   \n",
            "\tvar eventSource = new Timeline.DefaultEventSource();\n",
            "   var bandInfos = [\n",
            "     Timeline.createBandInfo({\n",
            "         width:          \"90%\", \n",
            "         eventSource:    eventSource,\n",
            "         intervalUnit:   Timeline.DateTime.MINUTE, \n",
            "         intervalPixels: 100,\n",
            "         theme:\t\t\t  theme,\n",
            "         date: \"Mon, 29 Nov 1999 16:04:00 -0800\"\n",
            "     }),\n",
            "     Timeline.createBandInfo({\n",
            "         width:          \"10%\", \n",
            "          eventSource:    eventSource,\n",
            "         intervalUnit:   Timeline.DateTime.HOUR, \n",
            "\t\t overview:       true,\n",
            "\t\t theme:\t\t\t  theme,\n",
            "         intervalPixels: 300,\n",
            "         date: \"Mon, 29 Nov 1999 17:00:00 -0800\"\n",
            "     })\n",
            "   ];\n",
            "*/\n",
            "</script>\n",
            "<!--\n",
            "\t\t<table width=\"100%\">\n",
            "\t\t<tr>\n",
            "\t\t\t<td>\n",
            "\t\t\t\t\n",
            "\t\t\t</td>\n",
            "\t\t\t<td width=\"220\" style=\"padding-top:35px;\">\n",
            "\t\t\t\t\t\t</td>\n",
            "\t\t</tr>\n",
            "\t\t</table>\n",
            "\t\t-->\n",
            "<div class=\"row\" style=\"margin-top:0px;margin-left: auto; margin-right: auto; max-width: 1300px;\">\n",
            "<table width=\"100%\">\n",
            "<tr>\n",
            "<td>\n",
            "<div class=\"row\">\n",
            "<div class=\"box\" style=\"width:30px;\">\n",
            "<img id=\"channel_icon\" src=\"http://www.livedash.com/images/search/67-e.gif\"/>\n",
            "</div>\n",
            "<div class=\"box\" style=\"width:360px;\">\n",
            "<h3 id=\"title\">Keeping Up With the Kardashians - A New Perspective in New Orleans</h3>\n",
            "<p id=\"program_info\">\n",
            "\t\t\t\t\t\t\t\tEP<br/>\n",
            "<br/>\n",
            "<b>Aired on Friday, Nov 19, 2010 (11/19/2010) at 05:30 PM</b>\n",
            "</p>\n",
            "</div>\n",
            "<div class=\"box\" style=\"width:240px;\">\n",
            "<table id=\"link_table\">\n",
            "<tr>\n",
            "<td></td>\n",
            "<td>\n",
            "<a href=\"http://www.livedash.com/search_tv.php?show_only=1&amp;title=Keeping+Up+With+the+Kardashians+-+A+New+Perspective+in+New+Orleans\">View other episodes</a>\n",
            "</td>\n",
            "</tr>\n",
            "<tr>\n",
            "<td>\n",
            "<img id=\"channel_icon\" src=\"http://www.livedash.com/images/search/67-e.gif\"/>\n",
            "</td>\n",
            "<td>\n",
            "<a href=\"http://www.livedash.com/search_tv.php?show_only=1&amp;channel=67\">View more from this channel</a>\n",
            "</td>\n",
            "</tr>\n",
            "<tr>\n",
            "<td>\n",
            "</td>\n",
            "<td>\n",
            "<a href=\"http://www.livedash.com/search_tv.php?show_only=1&amp;exact_date=2010-11-19\">View all transcripts from (11/19/2010)\n",
            "\t\t\t\t\t\t\t\t\t\t</a></td>\n",
            "</tr>\n",
            "<tr>\n",
            "<td></td>\n",
            "<td>\n",
            "<!-- AddThis Button BEGIN -->\n",
            "<script type=\"text/javascript\">var addthis_pub = \"zxcjason\";</script>\n",
            "<a href=\"http://www.addthis.com/bookmark.php\" onclick=\"return addthis_sendto()\" onmouseout=\"addthis_close()\" onmouseover=\"return addthis_open(this, '', '[URL]', '[TITLE]')\"><img alt=\"\" border=\"0\" height=\"16\" src=\"http://s7.addthis.com/static/btn/lg-addthis-en.gif\" width=\"125\"/></a><script src=\"http://s7.addthis.com/js/152/addthis_widget.js\" type=\"text/javascript\"></script>\n",
            "<!-- AddThis Button END -->\n",
            "</td>\n",
            "</tr>\n",
            "</table>\n",
            "</div>\n",
            "<div class=\"box\">\n",
            "</div>\n",
            "<div style=\"clear: both;\"></div>\n",
            "</div>\n",
            "<div class=\"row\" style=\" margin-top: 15px;\">\n",
            "<div style=\"float:left;padding-right:10px;\">\n",
            "<script type=\"text/javascript\"><!--\n",
            "\t\t\t\t\t\t\t\t\tgoogle_ad_client = \"pub-3300760009941566\";\n",
            "\t\t\t\t\t\t\t\t\t/* 300x250, created 2/18/10 */\n",
            "\t\t\t\t\t\t\t\t\tgoogle_ad_slot = \"4418261168\";\n",
            "\t\t\t\t\t\t\t\t\tgoogle_ad_width = 300;\n",
            "\t\t\t\t\t\t\t\t\tgoogle_ad_height = 250;\n",
            "\t\t\t\t\t\t\t\t\t//-->\n",
            "\t\t\t\t\t\t\t\t\t</script>\n",
            "<script src=\"http://pagead2.googlesyndication.com/pagead/show_ads.js\" type=\"text/javascript\">\n",
            "</script>\n",
            "</div>\n",
            "<h2 style=\"margin: 0px;\">Video and Thumbnails</h2>\n",
            "<img class=\"show_thumb\" src=\"/thumb_v4/20101119/keeping up with the kardashians-(a new perspective in new orleans)-2010-11-19-0/0_keeping up with the kardashians-(a new perspective in new orleans)-2010-11-19-0.jpg\"/>\n",
            "<img class=\"show_thumb\" src=\"/thumb_v4/20101119/keeping up with the kardashians-(a new perspective in new orleans)-2010-11-19-0/1_keeping up with the kardashians-(a new perspective in new orleans)-2010-11-19-0.jpg\"/>\n",
            "<img class=\"show_thumb\" src=\"/thumb_v4/20101119/keeping up with the kardashians-(a new perspective in new orleans)-2010-11-19-0/2_keeping up with the kardashians-(a new perspective in new orleans)-2010-11-19-0.jpg\"/>\n",
            "<img class=\"show_thumb\" src=\"/thumb_v4/20101119/keeping up with the kardashians-(a new perspective in new orleans)-2010-11-19-0/3_keeping up with the kardashians-(a new perspective in new orleans)-2010-11-19-0.jpg\"/>\n",
            "<img class=\"show_thumb\" src=\"/thumb_v4/20101119/keeping up with the kardashians-(a new perspective in new orleans)-2010-11-19-0/4_keeping up with the kardashians-(a new perspective in new orleans)-2010-11-19-0.jpg\"/>\n",
            "<img class=\"show_thumb\" src=\"/thumb_v4/20101119/keeping up with the kardashians-(a new perspective in new orleans)-2010-11-19-0/5_keeping up with the kardashians-(a new perspective in new orleans)-2010-11-19-0.jpg\"/>\n",
            "<img class=\"show_thumb\" src=\"/thumb_v4/20101119/keeping up with the kardashians-(a new perspective in new orleans)-2010-11-19-0/6_keeping up with the kardashians-(a new perspective in new orleans)-2010-11-19-0.jpg\"/>\n",
            "<img class=\"show_thumb\" src=\"/thumb_v4/20101119/keeping up with the kardashians-(a new perspective in new orleans)-2010-11-19-0/7_keeping up with the kardashians-(a new perspective in new orleans)-2010-11-19-0.jpg\"/>\n",
            "</div>\n",
            "<!-- \n",
            "\t\t\t\t\t\t<div id=\"my-timeline\" style=\"height: 200px; border: 0px solid #aaa\"></div>\n",
            "\t\t\t\t\t\t<noscript>\n",
            "\t\t\t\t\t\tThis page uses Javascript to show you a Timeline. Please enable Javascript in your browser to see the full page. Thank you.\n",
            "\t\t\t\t\t\t</noscript>\n",
            "\t\t\t\t\t\t -->\n",
            "<div class=\"tabber\" id=\"tabs\">\n",
            "<div class=\"tabbertab\">\n",
            "<h3>Transcript</h3>\n",
            "<div class=\"tab_content overview_tab_content\">\n",
            "<!-- Tab content here -->\n",
            "<table id=\"transcript_table\">\n",
            "</table>\n",
            "<!-- End tab content -->\n",
            "</div>\n",
            "</div>\n",
            "<div class=\"tabbertab\">\n",
            "<h3>Word Map</h3>\n",
            "<div class=\"tab_content overview_tab_content\">\n",
            "<!-- Tab content here -->\n",
            "<div style=\"width:100%;text-align:center;padding-bottom:40px;\">\n",
            "</div>\n",
            "<!-- End tab content -->\n",
            "</div>\n",
            "</div>\n",
            "</div>\n",
            "</td>\n",
            "<td style=\"padding-top:35px;\" width=\"300\">\n",
            "<h2 style=\"margin-top: 120px;\">\n",
            "                             Tag cloud of show\n",
            "                            </h2>\n",
            "<div style=\"width:100%;text-align:center;margin: 0px 10px 25px 10px;\">\n",
            "<a name=\"word_map\"></a>\n",
            "</div>\n",
            "<h2>\n",
            "                             Livedash is ad supported\n",
            "                            </h2>\n",
            "<script type=\"text/javascript\"><!--\n",
            "\t\t\t\t\t\t\tgoogle_ad_client = \"pub-3300760009941566\";\n",
            "\t\t\t\t\t\t\tgoogle_ad_slot = \"1472272198\";\n",
            "\t\t\t\t\t\t\tgoogle_ad_width = 300;\n",
            "\t\t\t\t\t\t\tgoogle_ad_height = 250;\n",
            "\t\t\t\t\t\t\t//-->\n",
            "\t\t\t\t\t\t\t</script>\n",
            "<script src=\"http://pagead2.googlesyndication.com/pagead/show_ads.js\" type=\"text/javascript\">\n",
            "</script>\n",
            "<div id=\"notice_div\">\n",
            "<div style=\"font-size:10px;\">\n",
            "<a href=\"http://www.mreplay.com/about.php\">About Us</a> |\n",
            "\t\t\t\t\t\t\t\t\t<a href=\"http://www.mreplay.com/help.php\">Help</a> |\n",
            "\t\t\t\t\t\t\t\t\t<a href=\"http://www.mreplay.com/dev.php\">DMCA</a> |\n",
            "\t\t\t\t\t\t\t\t\t<a href=\"http://www.mreplay.com/terms.php\">Terms of Use</a> <br/>\n",
            "<a href=\"http://www.mreplay.com/privacy.php\">Privacy Policy</a>\n",
            "</div>\n",
            "<div style=\"font-size:8px;margin-top:16px;\">\n",
            "\t\t\t\t\t\t\t\t\tmReplay Livedash is a registered trademark of mReplay Corporation.   The information provided with\n",
            "\t\t\t\t\tmReplay Livedash is for informational purposes only.   For more\n",
            "\t\t\t\t\tinformation, please see our terms of use.\n",
            "\t\t\t\t\t\n",
            "\t\t\t\t\tThe network logos used on mReplay Livedash are registered trademarks of\n",
            "\t\t\t\t\tthose respective companies, including Fox, NBC, CBS, PBS, ABC, FX,\n",
            "\t\t\t\t\tTNT, ESPN, ESPN2, TBS, USA, MTV, VH1, Spike, A&amp;E, Bravo, AMC, TLC,\n",
            "\t\t\t\t\tAnimal Planet, ABC Family, Cartoon Network, Disney, CNN, CNBC, Fox\n",
            "\t\t\t\t\tNews, MSNBC, Comedy Central, Entertainment, TV Land and Oxygen.\n",
            "\t\t\t\t\t\n",
            "\t\t\t\t\tThese networks, Fox, NBC, CBS, PBS, ABC, FX, TNT, ESPN, ESPN2, TBS,\n",
            "\t\t\t\t\tUSA, MTV, VH1, Spike, A&amp;E, Bravo, AMC, TLC, Animal Planet, ABC Family,\n",
            "\t\t\t\t\tCartoon Network, Disney, CNN, CNBC, Fox News, MSNBC, Comedy Central,\n",
            "\t\t\t\t\tEntertainment, TV Land and Oxygen, are not affiliated with mReplay\n",
            "\t\t\t\t\tLivedash, or mReplay Corporation.\n",
            "\t\t\t\t\t\t\t\t</div>\n",
            "</div>\n",
            "</td>\n",
            "</tr>\n",
            "</table>\n",
            "</div>\n",
            "</div>\n",
            "</div>\n",
            "<div id=\"bottommenudo\">\n",
            "<ul class=\"grandpappy\" id=\"nav\">\n",
            "<li class=\"firstbotm page\">\n",
            "<div id=\"pages\">\n",
            "<a href=\"http://www.livedash.com/search_tv.php?query=&amp;channel=67&amp;exact_date=&amp;date=&amp;category=&amp;page=\" id=\"a_prev\" style=\"visibility:hidden;margin-top:-3px;\"></a>\n",
            "<a href=\"http://www.livedash.com/search_tv.php?query=&amp;channel=67&amp;exact_date=&amp;date=&amp;category=&amp;page=\" id=\"a_next\" style=\"visibility:hidden;margin-top:-3px;\"></a>\n",
            "</div>\n",
            "</li>\n",
            "</ul>\n",
            "<!--        \n",
            "        <div id=\"returnToStart\">\n",
            "\n",
            "            <a class=\"app_link\" id=\"app_pro\" href=\"http://www.mreplay.com/pro/\"></a>\n",
            "            <a class=\"app_link\" id=\"app_broadcast\" href=\"http://www.mreplay.com/broadcast/\"></a>\n",
            "            \n",
            "            \n",
            "            <a class=\"app_link\" id=\"app_mobi\" href=\"http://www.mreplay.com/mobi/\"></a>\n",
            "            <a class=\"app_link\" id=\"app_live\" href=\"http://www.mreplay.com/live/\"></a>\n",
            "            <a class=\"app_link\" id=\"app_share\" href=\"http://www.mreplay.com/share.php\"></a>\n",
            "            \n",
            "        </div>\n",
            "    -->\n",
            "</div>\n",
            "<div id=\"loading_msg\" style=\"position:absolute;width:100%;height:60px;top:45%;z-index:100;display:none;\">\n",
            "<div class=\"rounded_box\" style=\"height:40px;width:250px;margin:0 auto;\"><div class=\"top-left\"></div>\n",
            "<div class=\"top-right\"></div>\n",
            "<div class=\"inside\"><div style=\"background-image: none; background-color: transparent;padding:8px;\">\n",
            "<div style=\"padding-top:16px;float:left;\">\n",
            "<img src=\"http://www.livedash.com/images/search/livedash-1-sm.png\" style=\"padding-right:15px;border-right:1px solid #ffffff;\"/>\n",
            "</div>\n",
            "<div style=\"float:left;margin-left:15px;\">\n",
            "<img src=\"http://www.livedash.com/images/search/loader-t-color.gif\"/>\n",
            "</div>\n",
            "<div style=\"clear:both\"></div>\n",
            "<div style=\"color:#ffffff;width:100%;text-align:center;font-size:20px;padding-top:10px;\">loading...</div>\n",
            "</div></div>\n",
            "<div class=\"bottom-left\"></div>\n",
            "<div class=\"bottom-right\"></div>\n",
            "</div>\n",
            "</div>\n",
            "<!--\n",
            "\t<img src=\"http://www.livedash.com/images/search/u-left.png\" width=\"1\" height=\"1\" border=\"0\" />\n",
            "\t<img src=\"http://www.livedash.com/images/search/u-right.png\" width=\"1\" height=\"1\" border=\"0\" />\n",
            "\t<img src=\"http://www.livedash.com/images/search/l-left.png\" width=\"1\" height=\"1\" border=\"0\" />\n",
            "\t<img src=\"http://www.livedash.com/images/search/l-right.png\" width=\"1\" height=\"1\" border=\"0\" />\n",
            "\t-->\n",
            "<script>\n",
            "    //new Ajax.Autocompleter(\"search_text\", \"autocomplete_choices\", \"http://www.livedash.com/autocomplete.php\", {});    \n",
            "    </script>\n",
            "<script>\n",
            "    $$('#bottommenudo li.menu_item ul li a').each(function(item){\n",
            "        \n",
            "        item.observe('click',show_loading);\n",
            "    });\n",
            "    \n",
            "    </script>\n",
            "<script type=\"text/javascript\">\n",
            "\n",
            " var _gaq = _gaq || [];\n",
            " _gaq.push(['_setAccount', 'UA-2075393-2']);\n",
            " _gaq.push(['_trackPageview']);\n",
            "\n",
            " (function() {\n",
            "   var ga = document.createElement('script'); ga.type =\n",
            "'text/javascript'; ga.async = true;\n",
            "   ga.src = ('https:' == document.location.protocol ? 'https://ssl' :\n",
            "'http://www') + '.google-analytics.com/ga.js';\n",
            "   var s = document.getElementsByTagName('script')[0];\n",
            "s.parentNode.insertBefore(ga, s);\n",
            " })();\n",
            "\n",
            "</script>\n",
            "</body>\n",
            "</html>\n"
          ]
        }
      ],
      "source": [
        "random_transcript_filepath = random.choice(glob(f\"{DATASET_DIR}/**/*\"))\n",
        "with open(random_transcript_filepath, \"r\") as fp:\n",
        "    transcript_bsoup = bs4.BeautifulSoup(fp, \"html.parser\")\n",
        "\n",
        "print(transcript_bsoup)"
      ],
      "id": "vUz2iqQeoHXh"
    },
    {
      "cell_type": "markdown",
      "metadata": {
        "id": "Khpc_KYvCU98"
      },
      "source": [
        "Unsurprisingly, that's a lot of HTML code, and we need to somehow process it to be able to make meaningful analyses. Before proceeding, let's render the above HTML code to see what data might be relevant to us."
      ],
      "id": "Khpc_KYvCU98"
    },
    {
      "cell_type": "code",
      "execution_count": 7,
      "metadata": {
        "id": "yaZ83oUr-KLF",
        "colab": {
          "resources": {
            "http://localhost:8080/thumb_v4/20101119/keeping%20up%20with%20the%20kardashians-(a%20new%20perspective%20in%20new%20orleans)-2010-11-19-0/0_keeping%20up%20with%20the%20kardashians-(a%20new%20perspective%20in%20new%20orleans)-2010-11-19-0.jpg": {
              "data": "CjwhRE9DVFlQRSBodG1sPgo8aHRtbCBsYW5nPWVuPgogIDxtZXRhIGNoYXJzZXQ9dXRmLTg+CiAgPG1ldGEgbmFtZT12aWV3cG9ydCBjb250ZW50PSJpbml0aWFsLXNjYWxlPTEsIG1pbmltdW0tc2NhbGU9MSwgd2lkdGg9ZGV2aWNlLXdpZHRoIj4KICA8dGl0bGU+RXJyb3IgNDA0IChOb3QgRm91bmQpISExPC90aXRsZT4KICA8c3R5bGU+CiAgICAqe21hcmdpbjowO3BhZGRpbmc6MH1odG1sLGNvZGV7Zm9udDoxNXB4LzIycHggYXJpYWwsc2Fucy1zZXJpZn1odG1se2JhY2tncm91bmQ6I2ZmZjtjb2xvcjojMjIyO3BhZGRpbmc6MTVweH1ib2R5e21hcmdpbjo3JSBhdXRvIDA7bWF4LXdpZHRoOjM5MHB4O21pbi1oZWlnaHQ6MTgwcHg7cGFkZGluZzozMHB4IDAgMTVweH0qID4gYm9keXtiYWNrZ3JvdW5kOnVybCgvL3d3dy5nb29nbGUuY29tL2ltYWdlcy9lcnJvcnMvcm9ib3QucG5nKSAxMDAlIDVweCBuby1yZXBlYXQ7cGFkZGluZy1yaWdodDoyMDVweH1we21hcmdpbjoxMXB4IDAgMjJweDtvdmVyZmxvdzpoaWRkZW59aW5ze2NvbG9yOiM3Nzc7dGV4dC1kZWNvcmF0aW9uOm5vbmV9YSBpbWd7Ym9yZGVyOjB9QG1lZGlhIHNjcmVlbiBhbmQgKG1heC13aWR0aDo3NzJweCl7Ym9keXtiYWNrZ3JvdW5kOm5vbmU7bWFyZ2luLXRvcDowO21heC13aWR0aDpub25lO3BhZGRpbmctcmlnaHQ6MH19I2xvZ297YmFja2dyb3VuZDp1cmwoLy93d3cuZ29vZ2xlLmNvbS9pbWFnZXMvbG9nb3MvZXJyb3JwYWdlL2Vycm9yX2xvZ28tMTUweDU0LnBuZykgbm8tcmVwZWF0O21hcmdpbi1sZWZ0Oi01cHh9QG1lZGlhIG9ubHkgc2NyZWVuIGFuZCAobWluLXJlc29sdXRpb246MTkyZHBpKXsjbG9nb3tiYWNrZ3JvdW5kOnVybCgvL3d3dy5nb29nbGUuY29tL2ltYWdlcy9sb2dvcy9lcnJvcnBhZ2UvZXJyb3JfbG9nby0xNTB4NTQtMngucG5nKSBuby1yZXBlYXQgMCUgMCUvMTAwJSAxMDAlOy1tb3otYm9yZGVyLWltYWdlOnVybCgvL3d3dy5nb29nbGUuY29tL2ltYWdlcy9sb2dvcy9lcnJvcnBhZ2UvZXJyb3JfbG9nby0xNTB4NTQtMngucG5nKSAwfX1AbWVkaWEgb25seSBzY3JlZW4gYW5kICgtd2Via2l0LW1pbi1kZXZpY2UtcGl4ZWwtcmF0aW86Mil7I2xvZ297YmFja2dyb3VuZDp1cmwoLy93d3cuZ29vZ2xlLmNvbS9pbWFnZXMvbG9nb3MvZXJyb3JwYWdlL2Vycm9yX2xvZ28tMTUweDU0LTJ4LnBuZykgbm8tcmVwZWF0Oy13ZWJraXQtYmFja2dyb3VuZC1zaXplOjEwMCUgMTAwJX19I2xvZ297ZGlzcGxheTppbmxpbmUtYmxvY2s7aGVpZ2h0OjU0cHg7d2lkdGg6MTUwcHh9CiAgPC9zdHlsZT4KICA8YSBocmVmPS8vd3d3Lmdvb2dsZS5jb20vPjxzcGFuIGlkPWxvZ28gYXJpYS1sYWJlbD1Hb29nbGU+PC9zcGFuPjwvYT4KICA8cD48Yj40MDQuPC9iPiA8aW5zPlRoYXTigJlzIGFuIGVycm9yLjwvaW5zPgogIDxwPiAgPGlucz5UaGF04oCZcyBhbGwgd2Uga25vdy48L2lucz4K",
              "ok": false,
              "headers": [
                [
                  "content-length",
                  "1449"
                ],
                [
                  "content-type",
                  "text/html; charset=utf-8"
                ]
              ],
              "status": 404,
              "status_text": ""
            },
            "http://localhost:8080/thumb_v4/20101119/keeping%20up%20with%20the%20kardashians-(a%20new%20perspective%20in%20new%20orleans)-2010-11-19-0/2_keeping%20up%20with%20the%20kardashians-(a%20new%20perspective%20in%20new%20orleans)-2010-11-19-0.jpg": {
              "data": "CjwhRE9DVFlQRSBodG1sPgo8aHRtbCBsYW5nPWVuPgogIDxtZXRhIGNoYXJzZXQ9dXRmLTg+CiAgPG1ldGEgbmFtZT12aWV3cG9ydCBjb250ZW50PSJpbml0aWFsLXNjYWxlPTEsIG1pbmltdW0tc2NhbGU9MSwgd2lkdGg9ZGV2aWNlLXdpZHRoIj4KICA8dGl0bGU+RXJyb3IgNDA0IChOb3QgRm91bmQpISExPC90aXRsZT4KICA8c3R5bGU+CiAgICAqe21hcmdpbjowO3BhZGRpbmc6MH1odG1sLGNvZGV7Zm9udDoxNXB4LzIycHggYXJpYWwsc2Fucy1zZXJpZn1odG1se2JhY2tncm91bmQ6I2ZmZjtjb2xvcjojMjIyO3BhZGRpbmc6MTVweH1ib2R5e21hcmdpbjo3JSBhdXRvIDA7bWF4LXdpZHRoOjM5MHB4O21pbi1oZWlnaHQ6MTgwcHg7cGFkZGluZzozMHB4IDAgMTVweH0qID4gYm9keXtiYWNrZ3JvdW5kOnVybCgvL3d3dy5nb29nbGUuY29tL2ltYWdlcy9lcnJvcnMvcm9ib3QucG5nKSAxMDAlIDVweCBuby1yZXBlYXQ7cGFkZGluZy1yaWdodDoyMDVweH1we21hcmdpbjoxMXB4IDAgMjJweDtvdmVyZmxvdzpoaWRkZW59aW5ze2NvbG9yOiM3Nzc7dGV4dC1kZWNvcmF0aW9uOm5vbmV9YSBpbWd7Ym9yZGVyOjB9QG1lZGlhIHNjcmVlbiBhbmQgKG1heC13aWR0aDo3NzJweCl7Ym9keXtiYWNrZ3JvdW5kOm5vbmU7bWFyZ2luLXRvcDowO21heC13aWR0aDpub25lO3BhZGRpbmctcmlnaHQ6MH19I2xvZ297YmFja2dyb3VuZDp1cmwoLy93d3cuZ29vZ2xlLmNvbS9pbWFnZXMvbG9nb3MvZXJyb3JwYWdlL2Vycm9yX2xvZ28tMTUweDU0LnBuZykgbm8tcmVwZWF0O21hcmdpbi1sZWZ0Oi01cHh9QG1lZGlhIG9ubHkgc2NyZWVuIGFuZCAobWluLXJlc29sdXRpb246MTkyZHBpKXsjbG9nb3tiYWNrZ3JvdW5kOnVybCgvL3d3dy5nb29nbGUuY29tL2ltYWdlcy9sb2dvcy9lcnJvcnBhZ2UvZXJyb3JfbG9nby0xNTB4NTQtMngucG5nKSBuby1yZXBlYXQgMCUgMCUvMTAwJSAxMDAlOy1tb3otYm9yZGVyLWltYWdlOnVybCgvL3d3dy5nb29nbGUuY29tL2ltYWdlcy9sb2dvcy9lcnJvcnBhZ2UvZXJyb3JfbG9nby0xNTB4NTQtMngucG5nKSAwfX1AbWVkaWEgb25seSBzY3JlZW4gYW5kICgtd2Via2l0LW1pbi1kZXZpY2UtcGl4ZWwtcmF0aW86Mil7I2xvZ297YmFja2dyb3VuZDp1cmwoLy93d3cuZ29vZ2xlLmNvbS9pbWFnZXMvbG9nb3MvZXJyb3JwYWdlL2Vycm9yX2xvZ28tMTUweDU0LTJ4LnBuZykgbm8tcmVwZWF0Oy13ZWJraXQtYmFja2dyb3VuZC1zaXplOjEwMCUgMTAwJX19I2xvZ297ZGlzcGxheTppbmxpbmUtYmxvY2s7aGVpZ2h0OjU0cHg7d2lkdGg6MTUwcHh9CiAgPC9zdHlsZT4KICA8YSBocmVmPS8vd3d3Lmdvb2dsZS5jb20vPjxzcGFuIGlkPWxvZ28gYXJpYS1sYWJlbD1Hb29nbGU+PC9zcGFuPjwvYT4KICA8cD48Yj40MDQuPC9iPiA8aW5zPlRoYXTigJlzIGFuIGVycm9yLjwvaW5zPgogIDxwPiAgPGlucz5UaGF04oCZcyBhbGwgd2Uga25vdy48L2lucz4K",
              "ok": false,
              "headers": [
                [
                  "content-length",
                  "1449"
                ],
                [
                  "content-type",
                  "text/html; charset=utf-8"
                ]
              ],
              "status": 404,
              "status_text": ""
            },
            "http://localhost:8080/thumb_v4/20101119/keeping%20up%20with%20the%20kardashians-(a%20new%20perspective%20in%20new%20orleans)-2010-11-19-0/1_keeping%20up%20with%20the%20kardashians-(a%20new%20perspective%20in%20new%20orleans)-2010-11-19-0.jpg": {
              "data": "CjwhRE9DVFlQRSBodG1sPgo8aHRtbCBsYW5nPWVuPgogIDxtZXRhIGNoYXJzZXQ9dXRmLTg+CiAgPG1ldGEgbmFtZT12aWV3cG9ydCBjb250ZW50PSJpbml0aWFsLXNjYWxlPTEsIG1pbmltdW0tc2NhbGU9MSwgd2lkdGg9ZGV2aWNlLXdpZHRoIj4KICA8dGl0bGU+RXJyb3IgNDA0IChOb3QgRm91bmQpISExPC90aXRsZT4KICA8c3R5bGU+CiAgICAqe21hcmdpbjowO3BhZGRpbmc6MH1odG1sLGNvZGV7Zm9udDoxNXB4LzIycHggYXJpYWwsc2Fucy1zZXJpZn1odG1se2JhY2tncm91bmQ6I2ZmZjtjb2xvcjojMjIyO3BhZGRpbmc6MTVweH1ib2R5e21hcmdpbjo3JSBhdXRvIDA7bWF4LXdpZHRoOjM5MHB4O21pbi1oZWlnaHQ6MTgwcHg7cGFkZGluZzozMHB4IDAgMTVweH0qID4gYm9keXtiYWNrZ3JvdW5kOnVybCgvL3d3dy5nb29nbGUuY29tL2ltYWdlcy9lcnJvcnMvcm9ib3QucG5nKSAxMDAlIDVweCBuby1yZXBlYXQ7cGFkZGluZy1yaWdodDoyMDVweH1we21hcmdpbjoxMXB4IDAgMjJweDtvdmVyZmxvdzpoaWRkZW59aW5ze2NvbG9yOiM3Nzc7dGV4dC1kZWNvcmF0aW9uOm5vbmV9YSBpbWd7Ym9yZGVyOjB9QG1lZGlhIHNjcmVlbiBhbmQgKG1heC13aWR0aDo3NzJweCl7Ym9keXtiYWNrZ3JvdW5kOm5vbmU7bWFyZ2luLXRvcDowO21heC13aWR0aDpub25lO3BhZGRpbmctcmlnaHQ6MH19I2xvZ297YmFja2dyb3VuZDp1cmwoLy93d3cuZ29vZ2xlLmNvbS9pbWFnZXMvbG9nb3MvZXJyb3JwYWdlL2Vycm9yX2xvZ28tMTUweDU0LnBuZykgbm8tcmVwZWF0O21hcmdpbi1sZWZ0Oi01cHh9QG1lZGlhIG9ubHkgc2NyZWVuIGFuZCAobWluLXJlc29sdXRpb246MTkyZHBpKXsjbG9nb3tiYWNrZ3JvdW5kOnVybCgvL3d3dy5nb29nbGUuY29tL2ltYWdlcy9sb2dvcy9lcnJvcnBhZ2UvZXJyb3JfbG9nby0xNTB4NTQtMngucG5nKSBuby1yZXBlYXQgMCUgMCUvMTAwJSAxMDAlOy1tb3otYm9yZGVyLWltYWdlOnVybCgvL3d3dy5nb29nbGUuY29tL2ltYWdlcy9sb2dvcy9lcnJvcnBhZ2UvZXJyb3JfbG9nby0xNTB4NTQtMngucG5nKSAwfX1AbWVkaWEgb25seSBzY3JlZW4gYW5kICgtd2Via2l0LW1pbi1kZXZpY2UtcGl4ZWwtcmF0aW86Mil7I2xvZ297YmFja2dyb3VuZDp1cmwoLy93d3cuZ29vZ2xlLmNvbS9pbWFnZXMvbG9nb3MvZXJyb3JwYWdlL2Vycm9yX2xvZ28tMTUweDU0LTJ4LnBuZykgbm8tcmVwZWF0Oy13ZWJraXQtYmFja2dyb3VuZC1zaXplOjEwMCUgMTAwJX19I2xvZ297ZGlzcGxheTppbmxpbmUtYmxvY2s7aGVpZ2h0OjU0cHg7d2lkdGg6MTUwcHh9CiAgPC9zdHlsZT4KICA8YSBocmVmPS8vd3d3Lmdvb2dsZS5jb20vPjxzcGFuIGlkPWxvZ28gYXJpYS1sYWJlbD1Hb29nbGU+PC9zcGFuPjwvYT4KICA8cD48Yj40MDQuPC9iPiA8aW5zPlRoYXTigJlzIGFuIGVycm9yLjwvaW5zPgogIDxwPiAgPGlucz5UaGF04oCZcyBhbGwgd2Uga25vdy48L2lucz4K",
              "ok": false,
              "headers": [
                [
                  "content-length",
                  "1449"
                ],
                [
                  "content-type",
                  "text/html; charset=utf-8"
                ]
              ],
              "status": 404,
              "status_text": ""
            },
            "http://localhost:8080/thumb_v4/20101119/keeping%20up%20with%20the%20kardashians-(a%20new%20perspective%20in%20new%20orleans)-2010-11-19-0/3_keeping%20up%20with%20the%20kardashians-(a%20new%20perspective%20in%20new%20orleans)-2010-11-19-0.jpg": {
              "data": "CjwhRE9DVFlQRSBodG1sPgo8aHRtbCBsYW5nPWVuPgogIDxtZXRhIGNoYXJzZXQ9dXRmLTg+CiAgPG1ldGEgbmFtZT12aWV3cG9ydCBjb250ZW50PSJpbml0aWFsLXNjYWxlPTEsIG1pbmltdW0tc2NhbGU9MSwgd2lkdGg9ZGV2aWNlLXdpZHRoIj4KICA8dGl0bGU+RXJyb3IgNDA0IChOb3QgRm91bmQpISExPC90aXRsZT4KICA8c3R5bGU+CiAgICAqe21hcmdpbjowO3BhZGRpbmc6MH1odG1sLGNvZGV7Zm9udDoxNXB4LzIycHggYXJpYWwsc2Fucy1zZXJpZn1odG1se2JhY2tncm91bmQ6I2ZmZjtjb2xvcjojMjIyO3BhZGRpbmc6MTVweH1ib2R5e21hcmdpbjo3JSBhdXRvIDA7bWF4LXdpZHRoOjM5MHB4O21pbi1oZWlnaHQ6MTgwcHg7cGFkZGluZzozMHB4IDAgMTVweH0qID4gYm9keXtiYWNrZ3JvdW5kOnVybCgvL3d3dy5nb29nbGUuY29tL2ltYWdlcy9lcnJvcnMvcm9ib3QucG5nKSAxMDAlIDVweCBuby1yZXBlYXQ7cGFkZGluZy1yaWdodDoyMDVweH1we21hcmdpbjoxMXB4IDAgMjJweDtvdmVyZmxvdzpoaWRkZW59aW5ze2NvbG9yOiM3Nzc7dGV4dC1kZWNvcmF0aW9uOm5vbmV9YSBpbWd7Ym9yZGVyOjB9QG1lZGlhIHNjcmVlbiBhbmQgKG1heC13aWR0aDo3NzJweCl7Ym9keXtiYWNrZ3JvdW5kOm5vbmU7bWFyZ2luLXRvcDowO21heC13aWR0aDpub25lO3BhZGRpbmctcmlnaHQ6MH19I2xvZ297YmFja2dyb3VuZDp1cmwoLy93d3cuZ29vZ2xlLmNvbS9pbWFnZXMvbG9nb3MvZXJyb3JwYWdlL2Vycm9yX2xvZ28tMTUweDU0LnBuZykgbm8tcmVwZWF0O21hcmdpbi1sZWZ0Oi01cHh9QG1lZGlhIG9ubHkgc2NyZWVuIGFuZCAobWluLXJlc29sdXRpb246MTkyZHBpKXsjbG9nb3tiYWNrZ3JvdW5kOnVybCgvL3d3dy5nb29nbGUuY29tL2ltYWdlcy9sb2dvcy9lcnJvcnBhZ2UvZXJyb3JfbG9nby0xNTB4NTQtMngucG5nKSBuby1yZXBlYXQgMCUgMCUvMTAwJSAxMDAlOy1tb3otYm9yZGVyLWltYWdlOnVybCgvL3d3dy5nb29nbGUuY29tL2ltYWdlcy9sb2dvcy9lcnJvcnBhZ2UvZXJyb3JfbG9nby0xNTB4NTQtMngucG5nKSAwfX1AbWVkaWEgb25seSBzY3JlZW4gYW5kICgtd2Via2l0LW1pbi1kZXZpY2UtcGl4ZWwtcmF0aW86Mil7I2xvZ297YmFja2dyb3VuZDp1cmwoLy93d3cuZ29vZ2xlLmNvbS9pbWFnZXMvbG9nb3MvZXJyb3JwYWdlL2Vycm9yX2xvZ28tMTUweDU0LTJ4LnBuZykgbm8tcmVwZWF0Oy13ZWJraXQtYmFja2dyb3VuZC1zaXplOjEwMCUgMTAwJX19I2xvZ297ZGlzcGxheTppbmxpbmUtYmxvY2s7aGVpZ2h0OjU0cHg7d2lkdGg6MTUwcHh9CiAgPC9zdHlsZT4KICA8YSBocmVmPS8vd3d3Lmdvb2dsZS5jb20vPjxzcGFuIGlkPWxvZ28gYXJpYS1sYWJlbD1Hb29nbGU+PC9zcGFuPjwvYT4KICA8cD48Yj40MDQuPC9iPiA8aW5zPlRoYXTigJlzIGFuIGVycm9yLjwvaW5zPgogIDxwPiAgPGlucz5UaGF04oCZcyBhbGwgd2Uga25vdy48L2lucz4K",
              "ok": false,
              "headers": [
                [
                  "content-length",
                  "1449"
                ],
                [
                  "content-type",
                  "text/html; charset=utf-8"
                ]
              ],
              "status": 404,
              "status_text": ""
            },
            "http://localhost:8080/thumb_v4/20101119/keeping%20up%20with%20the%20kardashians-(a%20new%20perspective%20in%20new%20orleans)-2010-11-19-0/4_keeping%20up%20with%20the%20kardashians-(a%20new%20perspective%20in%20new%20orleans)-2010-11-19-0.jpg": {
              "data": "CjwhRE9DVFlQRSBodG1sPgo8aHRtbCBsYW5nPWVuPgogIDxtZXRhIGNoYXJzZXQ9dXRmLTg+CiAgPG1ldGEgbmFtZT12aWV3cG9ydCBjb250ZW50PSJpbml0aWFsLXNjYWxlPTEsIG1pbmltdW0tc2NhbGU9MSwgd2lkdGg9ZGV2aWNlLXdpZHRoIj4KICA8dGl0bGU+RXJyb3IgNDA0IChOb3QgRm91bmQpISExPC90aXRsZT4KICA8c3R5bGU+CiAgICAqe21hcmdpbjowO3BhZGRpbmc6MH1odG1sLGNvZGV7Zm9udDoxNXB4LzIycHggYXJpYWwsc2Fucy1zZXJpZn1odG1se2JhY2tncm91bmQ6I2ZmZjtjb2xvcjojMjIyO3BhZGRpbmc6MTVweH1ib2R5e21hcmdpbjo3JSBhdXRvIDA7bWF4LXdpZHRoOjM5MHB4O21pbi1oZWlnaHQ6MTgwcHg7cGFkZGluZzozMHB4IDAgMTVweH0qID4gYm9keXtiYWNrZ3JvdW5kOnVybCgvL3d3dy5nb29nbGUuY29tL2ltYWdlcy9lcnJvcnMvcm9ib3QucG5nKSAxMDAlIDVweCBuby1yZXBlYXQ7cGFkZGluZy1yaWdodDoyMDVweH1we21hcmdpbjoxMXB4IDAgMjJweDtvdmVyZmxvdzpoaWRkZW59aW5ze2NvbG9yOiM3Nzc7dGV4dC1kZWNvcmF0aW9uOm5vbmV9YSBpbWd7Ym9yZGVyOjB9QG1lZGlhIHNjcmVlbiBhbmQgKG1heC13aWR0aDo3NzJweCl7Ym9keXtiYWNrZ3JvdW5kOm5vbmU7bWFyZ2luLXRvcDowO21heC13aWR0aDpub25lO3BhZGRpbmctcmlnaHQ6MH19I2xvZ297YmFja2dyb3VuZDp1cmwoLy93d3cuZ29vZ2xlLmNvbS9pbWFnZXMvbG9nb3MvZXJyb3JwYWdlL2Vycm9yX2xvZ28tMTUweDU0LnBuZykgbm8tcmVwZWF0O21hcmdpbi1sZWZ0Oi01cHh9QG1lZGlhIG9ubHkgc2NyZWVuIGFuZCAobWluLXJlc29sdXRpb246MTkyZHBpKXsjbG9nb3tiYWNrZ3JvdW5kOnVybCgvL3d3dy5nb29nbGUuY29tL2ltYWdlcy9sb2dvcy9lcnJvcnBhZ2UvZXJyb3JfbG9nby0xNTB4NTQtMngucG5nKSBuby1yZXBlYXQgMCUgMCUvMTAwJSAxMDAlOy1tb3otYm9yZGVyLWltYWdlOnVybCgvL3d3dy5nb29nbGUuY29tL2ltYWdlcy9sb2dvcy9lcnJvcnBhZ2UvZXJyb3JfbG9nby0xNTB4NTQtMngucG5nKSAwfX1AbWVkaWEgb25seSBzY3JlZW4gYW5kICgtd2Via2l0LW1pbi1kZXZpY2UtcGl4ZWwtcmF0aW86Mil7I2xvZ297YmFja2dyb3VuZDp1cmwoLy93d3cuZ29vZ2xlLmNvbS9pbWFnZXMvbG9nb3MvZXJyb3JwYWdlL2Vycm9yX2xvZ28tMTUweDU0LTJ4LnBuZykgbm8tcmVwZWF0Oy13ZWJraXQtYmFja2dyb3VuZC1zaXplOjEwMCUgMTAwJX19I2xvZ297ZGlzcGxheTppbmxpbmUtYmxvY2s7aGVpZ2h0OjU0cHg7d2lkdGg6MTUwcHh9CiAgPC9zdHlsZT4KICA8YSBocmVmPS8vd3d3Lmdvb2dsZS5jb20vPjxzcGFuIGlkPWxvZ28gYXJpYS1sYWJlbD1Hb29nbGU+PC9zcGFuPjwvYT4KICA8cD48Yj40MDQuPC9iPiA8aW5zPlRoYXTigJlzIGFuIGVycm9yLjwvaW5zPgogIDxwPiAgPGlucz5UaGF04oCZcyBhbGwgd2Uga25vdy48L2lucz4K",
              "ok": false,
              "headers": [
                [
                  "content-length",
                  "1449"
                ],
                [
                  "content-type",
                  "text/html; charset=utf-8"
                ]
              ],
              "status": 404,
              "status_text": ""
            },
            "http://localhost:8080/thumb_v4/20101119/keeping%20up%20with%20the%20kardashians-(a%20new%20perspective%20in%20new%20orleans)-2010-11-19-0/7_keeping%20up%20with%20the%20kardashians-(a%20new%20perspective%20in%20new%20orleans)-2010-11-19-0.jpg": {
              "data": "CjwhRE9DVFlQRSBodG1sPgo8aHRtbCBsYW5nPWVuPgogIDxtZXRhIGNoYXJzZXQ9dXRmLTg+CiAgPG1ldGEgbmFtZT12aWV3cG9ydCBjb250ZW50PSJpbml0aWFsLXNjYWxlPTEsIG1pbmltdW0tc2NhbGU9MSwgd2lkdGg9ZGV2aWNlLXdpZHRoIj4KICA8dGl0bGU+RXJyb3IgNDA0IChOb3QgRm91bmQpISExPC90aXRsZT4KICA8c3R5bGU+CiAgICAqe21hcmdpbjowO3BhZGRpbmc6MH1odG1sLGNvZGV7Zm9udDoxNXB4LzIycHggYXJpYWwsc2Fucy1zZXJpZn1odG1se2JhY2tncm91bmQ6I2ZmZjtjb2xvcjojMjIyO3BhZGRpbmc6MTVweH1ib2R5e21hcmdpbjo3JSBhdXRvIDA7bWF4LXdpZHRoOjM5MHB4O21pbi1oZWlnaHQ6MTgwcHg7cGFkZGluZzozMHB4IDAgMTVweH0qID4gYm9keXtiYWNrZ3JvdW5kOnVybCgvL3d3dy5nb29nbGUuY29tL2ltYWdlcy9lcnJvcnMvcm9ib3QucG5nKSAxMDAlIDVweCBuby1yZXBlYXQ7cGFkZGluZy1yaWdodDoyMDVweH1we21hcmdpbjoxMXB4IDAgMjJweDtvdmVyZmxvdzpoaWRkZW59aW5ze2NvbG9yOiM3Nzc7dGV4dC1kZWNvcmF0aW9uOm5vbmV9YSBpbWd7Ym9yZGVyOjB9QG1lZGlhIHNjcmVlbiBhbmQgKG1heC13aWR0aDo3NzJweCl7Ym9keXtiYWNrZ3JvdW5kOm5vbmU7bWFyZ2luLXRvcDowO21heC13aWR0aDpub25lO3BhZGRpbmctcmlnaHQ6MH19I2xvZ297YmFja2dyb3VuZDp1cmwoLy93d3cuZ29vZ2xlLmNvbS9pbWFnZXMvbG9nb3MvZXJyb3JwYWdlL2Vycm9yX2xvZ28tMTUweDU0LnBuZykgbm8tcmVwZWF0O21hcmdpbi1sZWZ0Oi01cHh9QG1lZGlhIG9ubHkgc2NyZWVuIGFuZCAobWluLXJlc29sdXRpb246MTkyZHBpKXsjbG9nb3tiYWNrZ3JvdW5kOnVybCgvL3d3dy5nb29nbGUuY29tL2ltYWdlcy9sb2dvcy9lcnJvcnBhZ2UvZXJyb3JfbG9nby0xNTB4NTQtMngucG5nKSBuby1yZXBlYXQgMCUgMCUvMTAwJSAxMDAlOy1tb3otYm9yZGVyLWltYWdlOnVybCgvL3d3dy5nb29nbGUuY29tL2ltYWdlcy9sb2dvcy9lcnJvcnBhZ2UvZXJyb3JfbG9nby0xNTB4NTQtMngucG5nKSAwfX1AbWVkaWEgb25seSBzY3JlZW4gYW5kICgtd2Via2l0LW1pbi1kZXZpY2UtcGl4ZWwtcmF0aW86Mil7I2xvZ297YmFja2dyb3VuZDp1cmwoLy93d3cuZ29vZ2xlLmNvbS9pbWFnZXMvbG9nb3MvZXJyb3JwYWdlL2Vycm9yX2xvZ28tMTUweDU0LTJ4LnBuZykgbm8tcmVwZWF0Oy13ZWJraXQtYmFja2dyb3VuZC1zaXplOjEwMCUgMTAwJX19I2xvZ297ZGlzcGxheTppbmxpbmUtYmxvY2s7aGVpZ2h0OjU0cHg7d2lkdGg6MTUwcHh9CiAgPC9zdHlsZT4KICA8YSBocmVmPS8vd3d3Lmdvb2dsZS5jb20vPjxzcGFuIGlkPWxvZ28gYXJpYS1sYWJlbD1Hb29nbGU+PC9zcGFuPjwvYT4KICA8cD48Yj40MDQuPC9iPiA8aW5zPlRoYXTigJlzIGFuIGVycm9yLjwvaW5zPgogIDxwPiAgPGlucz5UaGF04oCZcyBhbGwgd2Uga25vdy48L2lucz4K",
              "ok": false,
              "headers": [
                [
                  "content-length",
                  "1449"
                ],
                [
                  "content-type",
                  "text/html; charset=utf-8"
                ]
              ],
              "status": 404,
              "status_text": ""
            },
            "http://localhost:8080/thumb_v4/20101119/keeping%20up%20with%20the%20kardashians-(a%20new%20perspective%20in%20new%20orleans)-2010-11-19-0/6_keeping%20up%20with%20the%20kardashians-(a%20new%20perspective%20in%20new%20orleans)-2010-11-19-0.jpg": {
              "data": "CjwhRE9DVFlQRSBodG1sPgo8aHRtbCBsYW5nPWVuPgogIDxtZXRhIGNoYXJzZXQ9dXRmLTg+CiAgPG1ldGEgbmFtZT12aWV3cG9ydCBjb250ZW50PSJpbml0aWFsLXNjYWxlPTEsIG1pbmltdW0tc2NhbGU9MSwgd2lkdGg9ZGV2aWNlLXdpZHRoIj4KICA8dGl0bGU+RXJyb3IgNDA0IChOb3QgRm91bmQpISExPC90aXRsZT4KICA8c3R5bGU+CiAgICAqe21hcmdpbjowO3BhZGRpbmc6MH1odG1sLGNvZGV7Zm9udDoxNXB4LzIycHggYXJpYWwsc2Fucy1zZXJpZn1odG1se2JhY2tncm91bmQ6I2ZmZjtjb2xvcjojMjIyO3BhZGRpbmc6MTVweH1ib2R5e21hcmdpbjo3JSBhdXRvIDA7bWF4LXdpZHRoOjM5MHB4O21pbi1oZWlnaHQ6MTgwcHg7cGFkZGluZzozMHB4IDAgMTVweH0qID4gYm9keXtiYWNrZ3JvdW5kOnVybCgvL3d3dy5nb29nbGUuY29tL2ltYWdlcy9lcnJvcnMvcm9ib3QucG5nKSAxMDAlIDVweCBuby1yZXBlYXQ7cGFkZGluZy1yaWdodDoyMDVweH1we21hcmdpbjoxMXB4IDAgMjJweDtvdmVyZmxvdzpoaWRkZW59aW5ze2NvbG9yOiM3Nzc7dGV4dC1kZWNvcmF0aW9uOm5vbmV9YSBpbWd7Ym9yZGVyOjB9QG1lZGlhIHNjcmVlbiBhbmQgKG1heC13aWR0aDo3NzJweCl7Ym9keXtiYWNrZ3JvdW5kOm5vbmU7bWFyZ2luLXRvcDowO21heC13aWR0aDpub25lO3BhZGRpbmctcmlnaHQ6MH19I2xvZ297YmFja2dyb3VuZDp1cmwoLy93d3cuZ29vZ2xlLmNvbS9pbWFnZXMvbG9nb3MvZXJyb3JwYWdlL2Vycm9yX2xvZ28tMTUweDU0LnBuZykgbm8tcmVwZWF0O21hcmdpbi1sZWZ0Oi01cHh9QG1lZGlhIG9ubHkgc2NyZWVuIGFuZCAobWluLXJlc29sdXRpb246MTkyZHBpKXsjbG9nb3tiYWNrZ3JvdW5kOnVybCgvL3d3dy5nb29nbGUuY29tL2ltYWdlcy9sb2dvcy9lcnJvcnBhZ2UvZXJyb3JfbG9nby0xNTB4NTQtMngucG5nKSBuby1yZXBlYXQgMCUgMCUvMTAwJSAxMDAlOy1tb3otYm9yZGVyLWltYWdlOnVybCgvL3d3dy5nb29nbGUuY29tL2ltYWdlcy9sb2dvcy9lcnJvcnBhZ2UvZXJyb3JfbG9nby0xNTB4NTQtMngucG5nKSAwfX1AbWVkaWEgb25seSBzY3JlZW4gYW5kICgtd2Via2l0LW1pbi1kZXZpY2UtcGl4ZWwtcmF0aW86Mil7I2xvZ297YmFja2dyb3VuZDp1cmwoLy93d3cuZ29vZ2xlLmNvbS9pbWFnZXMvbG9nb3MvZXJyb3JwYWdlL2Vycm9yX2xvZ28tMTUweDU0LTJ4LnBuZykgbm8tcmVwZWF0Oy13ZWJraXQtYmFja2dyb3VuZC1zaXplOjEwMCUgMTAwJX19I2xvZ297ZGlzcGxheTppbmxpbmUtYmxvY2s7aGVpZ2h0OjU0cHg7d2lkdGg6MTUwcHh9CiAgPC9zdHlsZT4KICA8YSBocmVmPS8vd3d3Lmdvb2dsZS5jb20vPjxzcGFuIGlkPWxvZ28gYXJpYS1sYWJlbD1Hb29nbGU+PC9zcGFuPjwvYT4KICA8cD48Yj40MDQuPC9iPiA8aW5zPlRoYXTigJlzIGFuIGVycm9yLjwvaW5zPgogIDxwPiAgPGlucz5UaGF04oCZcyBhbGwgd2Uga25vdy48L2lucz4K",
              "ok": false,
              "headers": [
                [
                  "content-length",
                  "1449"
                ],
                [
                  "content-type",
                  "text/html; charset=utf-8"
                ]
              ],
              "status": 404,
              "status_text": ""
            },
            "http://localhost:8080/thumb_v4/20101119/keeping%20up%20with%20the%20kardashians-(a%20new%20perspective%20in%20new%20orleans)-2010-11-19-0/5_keeping%20up%20with%20the%20kardashians-(a%20new%20perspective%20in%20new%20orleans)-2010-11-19-0.jpg": {
              "data": "CjwhRE9DVFlQRSBodG1sPgo8aHRtbCBsYW5nPWVuPgogIDxtZXRhIGNoYXJzZXQ9dXRmLTg+CiAgPG1ldGEgbmFtZT12aWV3cG9ydCBjb250ZW50PSJpbml0aWFsLXNjYWxlPTEsIG1pbmltdW0tc2NhbGU9MSwgd2lkdGg9ZGV2aWNlLXdpZHRoIj4KICA8dGl0bGU+RXJyb3IgNDA0IChOb3QgRm91bmQpISExPC90aXRsZT4KICA8c3R5bGU+CiAgICAqe21hcmdpbjowO3BhZGRpbmc6MH1odG1sLGNvZGV7Zm9udDoxNXB4LzIycHggYXJpYWwsc2Fucy1zZXJpZn1odG1se2JhY2tncm91bmQ6I2ZmZjtjb2xvcjojMjIyO3BhZGRpbmc6MTVweH1ib2R5e21hcmdpbjo3JSBhdXRvIDA7bWF4LXdpZHRoOjM5MHB4O21pbi1oZWlnaHQ6MTgwcHg7cGFkZGluZzozMHB4IDAgMTVweH0qID4gYm9keXtiYWNrZ3JvdW5kOnVybCgvL3d3dy5nb29nbGUuY29tL2ltYWdlcy9lcnJvcnMvcm9ib3QucG5nKSAxMDAlIDVweCBuby1yZXBlYXQ7cGFkZGluZy1yaWdodDoyMDVweH1we21hcmdpbjoxMXB4IDAgMjJweDtvdmVyZmxvdzpoaWRkZW59aW5ze2NvbG9yOiM3Nzc7dGV4dC1kZWNvcmF0aW9uOm5vbmV9YSBpbWd7Ym9yZGVyOjB9QG1lZGlhIHNjcmVlbiBhbmQgKG1heC13aWR0aDo3NzJweCl7Ym9keXtiYWNrZ3JvdW5kOm5vbmU7bWFyZ2luLXRvcDowO21heC13aWR0aDpub25lO3BhZGRpbmctcmlnaHQ6MH19I2xvZ297YmFja2dyb3VuZDp1cmwoLy93d3cuZ29vZ2xlLmNvbS9pbWFnZXMvbG9nb3MvZXJyb3JwYWdlL2Vycm9yX2xvZ28tMTUweDU0LnBuZykgbm8tcmVwZWF0O21hcmdpbi1sZWZ0Oi01cHh9QG1lZGlhIG9ubHkgc2NyZWVuIGFuZCAobWluLXJlc29sdXRpb246MTkyZHBpKXsjbG9nb3tiYWNrZ3JvdW5kOnVybCgvL3d3dy5nb29nbGUuY29tL2ltYWdlcy9sb2dvcy9lcnJvcnBhZ2UvZXJyb3JfbG9nby0xNTB4NTQtMngucG5nKSBuby1yZXBlYXQgMCUgMCUvMTAwJSAxMDAlOy1tb3otYm9yZGVyLWltYWdlOnVybCgvL3d3dy5nb29nbGUuY29tL2ltYWdlcy9sb2dvcy9lcnJvcnBhZ2UvZXJyb3JfbG9nby0xNTB4NTQtMngucG5nKSAwfX1AbWVkaWEgb25seSBzY3JlZW4gYW5kICgtd2Via2l0LW1pbi1kZXZpY2UtcGl4ZWwtcmF0aW86Mil7I2xvZ297YmFja2dyb3VuZDp1cmwoLy93d3cuZ29vZ2xlLmNvbS9pbWFnZXMvbG9nb3MvZXJyb3JwYWdlL2Vycm9yX2xvZ28tMTUweDU0LTJ4LnBuZykgbm8tcmVwZWF0Oy13ZWJraXQtYmFja2dyb3VuZC1zaXplOjEwMCUgMTAwJX19I2xvZ297ZGlzcGxheTppbmxpbmUtYmxvY2s7aGVpZ2h0OjU0cHg7d2lkdGg6MTUwcHh9CiAgPC9zdHlsZT4KICA8YSBocmVmPS8vd3d3Lmdvb2dsZS5jb20vPjxzcGFuIGlkPWxvZ28gYXJpYS1sYWJlbD1Hb29nbGU+PC9zcGFuPjwvYT4KICA8cD48Yj40MDQuPC9iPiA8aW5zPlRoYXTigJlzIGFuIGVycm9yLjwvaW5zPgogIDxwPiAgPGlucz5UaGF04oCZcyBhbGwgd2Uga25vdy48L2lucz4K",
              "ok": false,
              "headers": [
                [
                  "content-length",
                  "1449"
                ],
                [
                  "content-type",
                  "text/html; charset=utf-8"
                ]
              ],
              "status": 404,
              "status_text": ""
            }
          },
          "base_uri": "https://localhost:8080/",
          "height": 597
        },
        "outputId": "262fcb09-b06a-4a09-e113-819debc2fe9b"
      },
      "outputs": [
        {
          "output_type": "execute_result",
          "data": {
            "text/plain": [
              "<IPython.core.display.HTML object>"
            ],
            "text/html": [
              "<div style='font-family:serif'><!DOCTYPE html PUBLIC \"-//W3C//DTD HTML 4.01 Transitional//EN\" \"http://www.w3.org/TR/html4/loose.dtd\">\n",
              "\n",
              "<html>\n",
              "<head>\n",
              "<meta content=\"text/html; charset=utf-8\" http-equiv=\"Content-Type\"/>\n",
              "<title>Keeping Up With the Kardashians - A New Perspective in New Orleans - Friday, Nov 19, 2010 - mReplay Livedash TV Transcript - Livedash - Search what is being mentioned across national TV</title>\n",
              "<meta content=\"mReplay Livedash TV Transcript - Keeping Up With the Kardashians - A New Perspective in New Orleans.  Aired on EP, Friday, Nov 19, 2010 at 05:30 PM\" name=\"description\"/>\n",
              "<meta content=\"mReplay, Livedash, TV, Transcript, Keeping Up With the Kardashians - A New Perspective in New Orleans, EP, Friday, Nov 19, 2010, 05:30 PM\" name=\"keywords\"/>\n",
              "<meta content=\"IE=EmulateIE7\" http-equiv=\"X-UA-Compatible\"/>\n",
              "<style type=\"text/css\">\n",
              "</style>\n",
              "<script type=\"text/javascript\">\n",
              "    var tabberOptions = {manualStartup:true};\n",
              "    </script>\n",
              "<script>\n",
              "    var RecaptchaOptions = {\n",
              "       theme : 'white'\n",
              "    };\n",
              "    </script>\n",
              "<script src=\"http://www.livedash.com/js/tabber.js\" type=\"text/javascript\"></script>\n",
              "<script src=\"http://www.livedash.com/js/prototype.js\" type=\"text/javascript\"></script>\n",
              "<script src=\"http://www.livedash.com/js/scriptaculous.js?load=effects,controls\" type=\"text/javascript\"></script>\n",
              "<script src=\"http://www.livedash.com/js/search.js\" type=\"text/javascript\"></script>\n",
              "<script src=\"http://www.livedash.com/js/landing.js\" type=\"text/javascript\"></script>\n",
              "<script>\n",
              "    var Timeline_ajax_url=\"http://www.livedash.com/js/timeline/timeline_ajax/simile-ajax-api.js\";\n",
              "    var  Timeline_urlPrefix='http://www.livedash.com/js/timeline/timeline_js/';       \n",
              "    var   Timeline_parameters='bundle=true';\n",
              "    </script>\n",
              "<script src=\"http://www.livedash.com/js/timeline/timeline_js/timeline-api.js\" type=\"text/javascript\">\n",
              "</script>\n",
              "<script src=\"http://www.livedash.com/js/voogle_search.js\" type=\"text/javascript\"></script>\n",
              "<script type=\"text/javascript\">\n",
              "    var GB_ROOT_DIR = \"http://www.livedash.com/js/greybox/\";\n",
              "    </script>\n",
              "<script src=\"http://www.livedash.com/js/greybox/AJS.js\" type=\"text/javascript\"></script>\n",
              "<script src=\"http://www.livedash.com/js/greybox/AJS.js\" type=\"text/javascript\"></script>\n",
              "<script src=\"http://www.livedash.com/js/greybox/AJS_fx.js\" type=\"text/javascript\"></script>\n",
              "<script src=\"http://www.livedash.com/js/greybox/gb_scripts.js\" type=\"text/javascript\"></script>\n",
              "<link href=\"http://www.livedash.com/js/greybox/gb_styles.css\" rel=\"stylesheet\" type=\"text/css\"/>\n",
              "<link href=\"http://www.livedash.com/css/search.css\" rel=\"stylesheet\" type=\"text/css\"/>\n",
              "</head>\n",
              "<body onload=\"timeline_load('show_name=keeping_up_with_the_kardashians-%28a_new_perspective_in_new_orleans%29&amp;channel=67&amp;id=514592&amp;CLIPSHARE_SESSION=q99cuvd2rbngs4omni6k8l1ts7&amp;__utma=231985410.1350912046.1322332618.1322335292.1322348703.3&amp;__utmc=231985410&amp;__utmz=231985410.1322332618.1.1.utmcsr%3D%28direct%29%7Cutmccn%3D%28direct%29%7Cutmcmd%3D%28none%29&amp;transcript_query=&amp;transcript_start=&amp;query=&amp;');tabberAutomatic({});\" onresize=\"onResize()\">\n",
              "<!--<script type='text/javascript' src='http://www.livedash.com/js/wz_tooltip.js'></script>-->\n",
              "<div style=\"background:transparent url(http://www.livedash.com/images/search/top-black.gif) repeat-x scroll 0 0;width:100%\">\n",
              "<div id=\"newmenudo\">\n",
              "<ul class=\"grandpappy\" id=\"nav\">\n",
              "<li class=\"firstborn help\">\n",
              "<div id=\"search_wrap\">\n",
              "<form action=\"http://www.livedash.com/search_tv.php\" id=\"search_form\" method=\"get\">\n",
              "<span id=\"search_bg\" style=\"background-image: url(http://www.livedash.com/images/search/voogle-search-sm.png);\">\n",
              "<input autocomplete=\"off\" class=\"search_text\" id=\"search_text\" maxlength=\"250\" name=\"q\" type=\"text\" value=\"\"/>\n",
              "<img id=\"loading_icon\" src=\"http://www.livedash.com/images/search/18px.gif\" style=\"margin-top:2px;vertical-align:middle;margin-right:0px;visibility: hidden;\"/>\n",
              "</span>\n",
              "<div class=\"autocomplete\" id=\"autocomplete_choices_small\"></div>\n",
              "</form></div>\n",
              "<input class=\"search\" name=\"sa\" onclick=\"$('loading_icon').style.visibility='visible';return true;\" onmousedown=\"change_button_background(this,'http://www.livedash.com/images/search/search-3.gif');\" onmouseout=\"change_button_background(this,'http://www.livedash.com/images/search/search-1.gif');\" onmouseover=\"change_button_background(this,'http://www.livedash.com/images/search/search-2.gif');\" style=\"background:url(http://www.livedash.com/images/search/search-1.gif) no-repeat\" title=\"Search\" type=\"submit\" value=\"Search\"/>\n",
              "<input name=\"cx\" type=\"hidden\" value=\"partner-pub-3300760009941566:6smplo1tn23\">\n",
              "<input name=\"cof\" type=\"hidden\" value=\"FORID:10\"/>\n",
              "<input name=\"ie\" type=\"hidden\" value=\"ISO-8859-1\"/>\n",
              "<input name=\"hq\" type=\"hidden\" value=\"more:recent4\"/>\n",
              "<img src=\"http://www.livedash.com/images/search/search-2.gif\" style=\"display:none;\"/>\n",
              "<img src=\"http://www.livedash.com/images/search/search-3.gif\" style=\"display:none;\"/>\n",
              "\n",
              "<!--\n",
              "                    <form method=\"get\" action=\"http://www.livedash.com/search_tv.php\" id=\"search_form\">\n",
              "                    \n",
              "                        <span id=\"search_bg\" style=\"background-image: url(http://www.livedash.com/images/search/voogle-search-sm.png);\">\n",
              "                            <input id=\"search_text\" type=\"text\" autocomplete=\"off\" maxlength=\"250\" value=\"\" name=\"query\" class=\"search_text\" />\n",
              "                            <img id=\"loading_icon\" src=\"http://www.livedash.com/images/search/18px.gif\" style=\"margin-top:2px;vertical-align:middle;margin-right:0px;visibility: hidden;\" id=\"loading_icon\"/>\n",
              "                        </span>\n",
              "                        <div id=\"autocomplete_choices_small\" class=\"autocomplete\"></div>\n",
              "                    </div> \n",
              "                    <input value=\"\" type=\"submit\" title=\"Search\"  onmouseover=\"change_button_background(this,'http://www.livedash.com/images/search/search-2.gif');\"  onmouseout=\"change_button_background(this,'http://www.livedash.com/images/search/search-1.gif');\" onmousedown=\"change_button_background(this,'http://www.livedash.com/images/search/search-3.gif');\" onclick=\"$('loading_icon').style.visibility='visible';return true;\" class=\"search\" style=\"background:url(http://www.livedash.com/images/search/search-1.gif) no-repeat\">\n",
              "                    \n",
              "                    <img src=\"http://www.livedash.com/images/search/search-2.gif\" style=\"display:none;\"    />\n",
              "                    <img src=\"http://www.livedash.com/images/search/search-3.gif\" style=\"display:none;\"    />\n",
              "                    \n",
              "                    \n",
              "                    </form>                                                                 \n",
              "                        -->\n",
              "</input></li>\n",
              "<li class=\"firstborn space\" id=\"menudo_register\">\n",
              "<img alt=\"loading\" id=\"loading_icon\" src=\"http://www.livedash.com/images/search/loading.gif\" style=\"visibility:hidden\"/>\n",
              "</li>\n",
              "<li class=\"firstborn logo\" style=\"float:right; color:#3399FE; width: 400px;\">\n",
              "<div style=\"width:400px; text-align:right; padding-right: 20px; margin-top:10px;\">\n",
              "<a href=\"http://www.livedash.com/login.php\" style=\"font-weight: bold\">Enterprise users, login for video or API access &gt; </a>\n",
              "</div>\n",
              "</li>\n",
              "</ul>\n",
              "<div style=\"clear:both\"></div>\n",
              "</div>\n",
              "</div>\n",
              "<div style=\"clear:both\"></div>\n",
              "<script>\n",
              "    \n",
              "    \n",
              "    \n",
              "    function autocomplete_submit(input, string)\n",
              "    {\n",
              "    //    $('fld').value = input.value;\n",
              "        $('loading_icon').style.visibility='visible';\n",
              "        $('search_form').submit();\n",
              "    }\n",
              "    \n",
              "    \n",
              "    \n",
              "    new Ajax.Autocompleter(\"search_text\", \"autocomplete_choices_small\", \"http://www.livedash.com/autocomplete.php\", {afterUpdateElement:autocomplete_submit});    \n",
              "    </script>\n",
              "<script>\n",
              "    $$('#tbl_tabs a').each(function(item){\n",
              "        \n",
              "        item.observe('click',show_loading);\n",
              "    });\n",
              "    \n",
              "    </script>\n",
              "<style type=\"text/css\">\n",
              "        #bdy {top:76px;}\n",
              "    </style>\n",
              "<div id=\"return_msg\" style=\"width:100%;display:none\">\n",
              "<div class=\"rounded_box\" id=\"return_msg_rounded_box\" style=\"margin:0 auto;width:400px;\"><div class=\"top-left\"></div>\n",
              "<div class=\"top-right\"></div>\n",
              "<div class=\"inside\" id=\"return_msg_inside\" style=\"text-align:center;font-weight:bold;\">\n",
              "<script>\n",
              "                        setTimeout(\"$('return_msg_rounded_box').fade()\",6000);\n",
              "                        \n",
              "                        </script>\n",
              "</div>\n",
              "<div class=\"bottom-left\"></div>\n",
              "<div class=\"bottom-right\"></div>\n",
              "</div>\n",
              "</div>\n",
              "\n",
              "<div style=\"position:static\">\n",
              "<div class=\"transcript_box\" id=\"bdy\" style=\"overflow-y:scroll; overflow-x:hidden\">\n",
              "<script>\n",
              "\n",
              "/*\n",
              "\t// Change background colour\n",
              "Timeline.GregorianEtherPainter.prototype.initialize = function(band, timeline) {\n",
              "    this._band = band;\n",
              "    this._timeline = timeline;\n",
              "    \n",
              "    this._backgroundLayer = band.createLayerDiv(0);\n",
              "    this._backgroundLayer.setAttribute(\"name\", \"ether-background\"); // for debugging\n",
              "    this._backgroundLayer.className = 'timeline-ether-bg';\n",
              "    this._backgroundLayer.style.background = this._theme.ether.backgroundColors[band.getIndex()];\n",
              "\n",
              "    \n",
              "    this._markerLayer = null;\n",
              "    this._lineLayer = null;\n",
              "    \n",
              "    var align = (\"align\" in this._params && this._params.align != undefined) ? this._params.align : \n",
              "        this._theme.ether.interval.marker[timeline.isHorizontal() ? \"hAlign\" : \"vAlign\"];\n",
              "    var showLine = (\"showLine\" in this._params) ? this._params.showLine : \n",
              "        this._theme.ether.interval.line.show;\n",
              "        \n",
              "    this._intervalMarkerLayout = new Timeline.EtherIntervalMarkerLayout(\n",
              "        this._timeline, this._band, this._theme, align, showLine);\n",
              "        \n",
              "    this._highlight = new Timeline.EtherHighlight(\n",
              "        this._timeline, this._band, this._theme, this._backgroundLayer);\n",
              "}\n",
              "\n",
              " \n",
              "   Timeline.OriginalEventPainter.prototype._showBubble = function(x, y, evt) {\n",
              "   \twindow.location.hash = \tevt.getDescription();\n",
              "   }\n",
              "   \n",
              "    var theme = Timeline.ClassicTheme.create();\n",
              "\t//theme.ether.mouseWheel = 'zoom';\n",
              "\t//theme.event.bubble.width = 500;\n",
              "\t\n",
              "\ttheme.ether.backgroundColors = [\"#FFFFFF\",\"#DDDDDD\"];\n",
              "\ttheme.ether.highlightColor = \"#FFFFFF\";\n",
              "   \n",
              "\tvar eventSource = new Timeline.DefaultEventSource();\n",
              "   var bandInfos = [\n",
              "     Timeline.createBandInfo({\n",
              "         width:          \"90%\", \n",
              "         eventSource:    eventSource,\n",
              "         intervalUnit:   Timeline.DateTime.MINUTE, \n",
              "         intervalPixels: 100,\n",
              "         theme:\t\t\t  theme,\n",
              "         date: \"Mon, 29 Nov 1999 16:04:00 -0800\"\n",
              "     }),\n",
              "     Timeline.createBandInfo({\n",
              "         width:          \"10%\", \n",
              "          eventSource:    eventSource,\n",
              "         intervalUnit:   Timeline.DateTime.HOUR, \n",
              "\t\t overview:       true,\n",
              "\t\t theme:\t\t\t  theme,\n",
              "         intervalPixels: 300,\n",
              "         date: \"Mon, 29 Nov 1999 17:00:00 -0800\"\n",
              "     })\n",
              "   ];\n",
              "*/\n",
              "</script>\n",
              "<!--\n",
              "\t\t<table width=\"100%\">\n",
              "\t\t<tr>\n",
              "\t\t\t<td>\n",
              "\t\t\t\t\n",
              "\t\t\t</td>\n",
              "\t\t\t<td width=\"220\" style=\"padding-top:35px;\">\n",
              "\t\t\t\t\t\t</td>\n",
              "\t\t</tr>\n",
              "\t\t</table>\n",
              "\t\t-->\n",
              "<div class=\"row\" style=\"margin-top:0px;margin-left: auto; margin-right: auto; max-width: 1300px;\">\n",
              "<table width=\"100%\">\n",
              "<tr>\n",
              "<td>\n",
              "<div class=\"row\">\n",
              "<div class=\"box\" style=\"width:30px;\">\n",
              "<img id=\"channel_icon\" src=\"http://www.livedash.com/images/search/67-e.gif\"/>\n",
              "</div>\n",
              "<div class=\"box\" style=\"width:360px;\">\n",
              "<h3 id=\"title\">Keeping Up With the Kardashians - A New Perspective in New Orleans</h3>\n",
              "<p id=\"program_info\">\n",
              "\t\t\t\t\t\t\t\tEP<br/>\n",
              "<br/>\n",
              "<b>Aired on Friday, Nov 19, 2010 (11/19/2010) at 05:30 PM</b>\n",
              "</p>\n",
              "</div>\n",
              "<div class=\"box\" style=\"width:240px;\">\n",
              "<table id=\"link_table\">\n",
              "<tr>\n",
              "<td></td>\n",
              "<td>\n",
              "<a href=\"http://www.livedash.com/search_tv.php?show_only=1&amp;title=Keeping+Up+With+the+Kardashians+-+A+New+Perspective+in+New+Orleans\">View other episodes</a>\n",
              "</td>\n",
              "</tr>\n",
              "<tr>\n",
              "<td>\n",
              "<img id=\"channel_icon\" src=\"http://www.livedash.com/images/search/67-e.gif\"/>\n",
              "</td>\n",
              "<td>\n",
              "<a href=\"http://www.livedash.com/search_tv.php?show_only=1&amp;channel=67\">View more from this channel</a>\n",
              "</td>\n",
              "</tr>\n",
              "<tr>\n",
              "<td>\n",
              "</td>\n",
              "<td>\n",
              "<a href=\"http://www.livedash.com/search_tv.php?show_only=1&amp;exact_date=2010-11-19\">View all transcripts from (11/19/2010)\n",
              "\t\t\t\t\t\t\t\t\t\t</a></td>\n",
              "</tr>\n",
              "<tr>\n",
              "<td></td>\n",
              "<td>\n",
              "<!-- AddThis Button BEGIN -->\n",
              "<script type=\"text/javascript\">var addthis_pub = \"zxcjason\";</script>\n",
              "<a href=\"http://www.addthis.com/bookmark.php\" onclick=\"return addthis_sendto()\" onmouseout=\"addthis_close()\" onmouseover=\"return addthis_open(this, '', '[URL]', '[TITLE]')\"><img alt=\"\" border=\"0\" height=\"16\" src=\"http://s7.addthis.com/static/btn/lg-addthis-en.gif\" width=\"125\"/></a><script src=\"http://s7.addthis.com/js/152/addthis_widget.js\" type=\"text/javascript\"></script>\n",
              "<!-- AddThis Button END -->\n",
              "</td>\n",
              "</tr>\n",
              "</table>\n",
              "</div>\n",
              "<div class=\"box\">\n",
              "</div>\n",
              "<div style=\"clear: both;\"></div>\n",
              "</div>\n",
              "<div class=\"row\" style=\" margin-top: 15px;\">\n",
              "<div style=\"float:left;padding-right:10px;\">\n",
              "<script type=\"text/javascript\"><!--\n",
              "\t\t\t\t\t\t\t\t\tgoogle_ad_client = \"pub-3300760009941566\";\n",
              "\t\t\t\t\t\t\t\t\t/* 300x250, created 2/18/10 */\n",
              "\t\t\t\t\t\t\t\t\tgoogle_ad_slot = \"4418261168\";\n",
              "\t\t\t\t\t\t\t\t\tgoogle_ad_width = 300;\n",
              "\t\t\t\t\t\t\t\t\tgoogle_ad_height = 250;\n",
              "\t\t\t\t\t\t\t\t\t//-->\n",
              "\t\t\t\t\t\t\t\t\t</script>\n",
              "<script src=\"http://pagead2.googlesyndication.com/pagead/show_ads.js\" type=\"text/javascript\">\n",
              "</script>\n",
              "</div>\n",
              "<h2 style=\"margin: 0px;\">Video and Thumbnails</h2>\n",
              "<img class=\"show_thumb\" src=\"/thumb_v4/20101119/keeping up with the kardashians-(a new perspective in new orleans)-2010-11-19-0/0_keeping up with the kardashians-(a new perspective in new orleans)-2010-11-19-0.jpg\"/>\n",
              "<img class=\"show_thumb\" src=\"/thumb_v4/20101119/keeping up with the kardashians-(a new perspective in new orleans)-2010-11-19-0/1_keeping up with the kardashians-(a new perspective in new orleans)-2010-11-19-0.jpg\"/>\n",
              "<img class=\"show_thumb\" src=\"/thumb_v4/20101119/keeping up with the kardashians-(a new perspective in new orleans)-2010-11-19-0/2_keeping up with the kardashians-(a new perspective in new orleans)-2010-11-19-0.jpg\"/>\n",
              "<img class=\"show_thumb\" src=\"/thumb_v4/20101119/keeping up with the kardashians-(a new perspective in new orleans)-2010-11-19-0/3_keeping up with the kardashians-(a new perspective in new orleans)-2010-11-19-0.jpg\"/>\n",
              "<img class=\"show_thumb\" src=\"/thumb_v4/20101119/keeping up with the kardashians-(a new perspective in new orleans)-2010-11-19-0/4_keeping up with the kardashians-(a new perspective in new orleans)-2010-11-19-0.jpg\"/>\n",
              "<img class=\"show_thumb\" src=\"/thumb_v4/20101119/keeping up with the kardashians-(a new perspective in new orleans)-2010-11-19-0/5_keeping up with the kardashians-(a new perspective in new orleans)-2010-11-19-0.jpg\"/>\n",
              "<img class=\"show_thumb\" src=\"/thumb_v4/20101119/keeping up with the kardashians-(a new perspective in new orleans)-2010-11-19-0/6_keeping up with the kardashians-(a new perspective in new orleans)-2010-11-19-0.jpg\"/>\n",
              "<img class=\"show_thumb\" src=\"/thumb_v4/20101119/keeping up with the kardashians-(a new perspective in new orleans)-2010-11-19-0/7_keeping up with the kardashians-(a new perspective in new orleans)-2010-11-19-0.jpg\"/>\n",
              "</div>\n",
              "<!-- \n",
              "\t\t\t\t\t\t<div id=\"my-timeline\" style=\"height: 200px; border: 0px solid #aaa\"></div>\n",
              "\t\t\t\t\t\t<noscript>\n",
              "\t\t\t\t\t\tThis page uses Javascript to show you a Timeline. Please enable Javascript in your browser to see the full page. Thank you.\n",
              "\t\t\t\t\t\t</noscript>\n",
              "\t\t\t\t\t\t -->\n",
              "<div class=\"tabber\" id=\"tabs\">\n",
              "<div class=\"tabbertab\">\n",
              "<h3>Transcript</h3>\n",
              "<div class=\"tab_content overview_tab_content\">\n",
              "<!-- Tab content here -->\n",
              "<table id=\"transcript_table\">\n",
              "</table>\n",
              "<!-- End tab content -->\n",
              "</div>\n",
              "</div>\n",
              "<div class=\"tabbertab\">\n",
              "<h3>Word Map</h3>\n",
              "<div class=\"tab_content overview_tab_content\">\n",
              "<!-- Tab content here -->\n",
              "<div style=\"width:100%;text-align:center;padding-bottom:40px;\">\n",
              "</div>\n",
              "<!-- End tab content -->\n",
              "</div>\n",
              "</div>\n",
              "</div>\n",
              "</td>\n",
              "<td style=\"padding-top:35px;\" width=\"300\">\n",
              "<h2 style=\"margin-top: 120px;\">\n",
              "                             Tag cloud of show\n",
              "                            </h2>\n",
              "<div style=\"width:100%;text-align:center;margin: 0px 10px 25px 10px;\">\n",
              "<a name=\"word_map\"></a>\n",
              "</div>\n",
              "<h2>\n",
              "                             Livedash is ad supported\n",
              "                            </h2>\n",
              "<script type=\"text/javascript\"><!--\n",
              "\t\t\t\t\t\t\tgoogle_ad_client = \"pub-3300760009941566\";\n",
              "\t\t\t\t\t\t\tgoogle_ad_slot = \"1472272198\";\n",
              "\t\t\t\t\t\t\tgoogle_ad_width = 300;\n",
              "\t\t\t\t\t\t\tgoogle_ad_height = 250;\n",
              "\t\t\t\t\t\t\t//-->\n",
              "\t\t\t\t\t\t\t</script>\n",
              "<script src=\"http://pagead2.googlesyndication.com/pagead/show_ads.js\" type=\"text/javascript\">\n",
              "</script>\n",
              "<div id=\"notice_div\">\n",
              "<div style=\"font-size:10px;\">\n",
              "<a href=\"http://www.mreplay.com/about.php\">About Us</a> |\n",
              "\t\t\t\t\t\t\t\t\t<a href=\"http://www.mreplay.com/help.php\">Help</a> |\n",
              "\t\t\t\t\t\t\t\t\t<a href=\"http://www.mreplay.com/dev.php\">DMCA</a> |\n",
              "\t\t\t\t\t\t\t\t\t<a href=\"http://www.mreplay.com/terms.php\">Terms of Use</a> <br/>\n",
              "<a href=\"http://www.mreplay.com/privacy.php\">Privacy Policy</a>\n",
              "</div>\n",
              "<div style=\"font-size:8px;margin-top:16px;\">\n",
              "\t\t\t\t\t\t\t\t\tmReplay Livedash is a registered trademark of mReplay Corporation.   The information provided with\n",
              "\t\t\t\t\tmReplay Livedash is for informational purposes only.   For more\n",
              "\t\t\t\t\tinformation, please see our terms of use.\n",
              "\t\t\t\t\t\n",
              "\t\t\t\t\tThe network logos used on mReplay Livedash are registered trademarks of\n",
              "\t\t\t\t\tthose respective companies, including Fox, NBC, CBS, PBS, ABC, FX,\n",
              "\t\t\t\t\tTNT, ESPN, ESPN2, TBS, USA, MTV, VH1, Spike, A&amp;E, Bravo, AMC, TLC,\n",
              "\t\t\t\t\tAnimal Planet, ABC Family, Cartoon Network, Disney, CNN, CNBC, Fox\n",
              "\t\t\t\t\tNews, MSNBC, Comedy Central, Entertainment, TV Land and Oxygen.\n",
              "\t\t\t\t\t\n",
              "\t\t\t\t\tThese networks, Fox, NBC, CBS, PBS, ABC, FX, TNT, ESPN, ESPN2, TBS,\n",
              "\t\t\t\t\tUSA, MTV, VH1, Spike, A&amp;E, Bravo, AMC, TLC, Animal Planet, ABC Family,\n",
              "\t\t\t\t\tCartoon Network, Disney, CNN, CNBC, Fox News, MSNBC, Comedy Central,\n",
              "\t\t\t\t\tEntertainment, TV Land and Oxygen, are not affiliated with mReplay\n",
              "\t\t\t\t\tLivedash, or mReplay Corporation.\n",
              "\t\t\t\t\t\t\t\t</div>\n",
              "</div>\n",
              "</td>\n",
              "</tr>\n",
              "</table>\n",
              "</div>\n",
              "</div>\n",
              "</div>\n",
              "<div id=\"bottommenudo\">\n",
              "<ul class=\"grandpappy\" id=\"nav\">\n",
              "<li class=\"firstbotm page\">\n",
              "<div id=\"pages\">\n",
              "<a href=\"http://www.livedash.com/search_tv.php?query=&amp;channel=67&amp;exact_date=&amp;date=&amp;category=&amp;page=\" id=\"a_prev\" style=\"visibility:hidden;margin-top:-3px;\"></a>\n",
              "<a href=\"http://www.livedash.com/search_tv.php?query=&amp;channel=67&amp;exact_date=&amp;date=&amp;category=&amp;page=\" id=\"a_next\" style=\"visibility:hidden;margin-top:-3px;\"></a>\n",
              "</div>\n",
              "</li>\n",
              "</ul>\n",
              "<!--        \n",
              "        <div id=\"returnToStart\">\n",
              "\n",
              "            <a class=\"app_link\" id=\"app_pro\" href=\"http://www.mreplay.com/pro/\"></a>\n",
              "            <a class=\"app_link\" id=\"app_broadcast\" href=\"http://www.mreplay.com/broadcast/\"></a>\n",
              "            \n",
              "            \n",
              "            <a class=\"app_link\" id=\"app_mobi\" href=\"http://www.mreplay.com/mobi/\"></a>\n",
              "            <a class=\"app_link\" id=\"app_live\" href=\"http://www.mreplay.com/live/\"></a>\n",
              "            <a class=\"app_link\" id=\"app_share\" href=\"http://www.mreplay.com/share.php\"></a>\n",
              "            \n",
              "        </div>\n",
              "    -->\n",
              "</div>\n",
              "<div id=\"loading_msg\" style=\"position:absolute;width:100%;height:60px;top:45%;z-index:100;display:none;\">\n",
              "<div class=\"rounded_box\" style=\"height:40px;width:250px;margin:0 auto;\"><div class=\"top-left\"></div>\n",
              "<div class=\"top-right\"></div>\n",
              "<div class=\"inside\"><div style=\"background-image: none; background-color: transparent;padding:8px;\">\n",
              "<div style=\"padding-top:16px;float:left;\">\n",
              "<img src=\"http://www.livedash.com/images/search/livedash-1-sm.png\" style=\"padding-right:15px;border-right:1px solid #ffffff;\"/>\n",
              "</div>\n",
              "<div style=\"float:left;margin-left:15px;\">\n",
              "<img src=\"http://www.livedash.com/images/search/loader-t-color.gif\"/>\n",
              "</div>\n",
              "<div style=\"clear:both\"></div>\n",
              "<div style=\"color:#ffffff;width:100%;text-align:center;font-size:20px;padding-top:10px;\">loading...</div>\n",
              "</div></div>\n",
              "<div class=\"bottom-left\"></div>\n",
              "<div class=\"bottom-right\"></div>\n",
              "</div>\n",
              "</div>\n",
              "<!--\n",
              "\t<img src=\"http://www.livedash.com/images/search/u-left.png\" width=\"1\" height=\"1\" border=\"0\" />\n",
              "\t<img src=\"http://www.livedash.com/images/search/u-right.png\" width=\"1\" height=\"1\" border=\"0\" />\n",
              "\t<img src=\"http://www.livedash.com/images/search/l-left.png\" width=\"1\" height=\"1\" border=\"0\" />\n",
              "\t<img src=\"http://www.livedash.com/images/search/l-right.png\" width=\"1\" height=\"1\" border=\"0\" />\n",
              "\t-->\n",
              "<script>\n",
              "    //new Ajax.Autocompleter(\"search_text\", \"autocomplete_choices\", \"http://www.livedash.com/autocomplete.php\", {});    \n",
              "    </script>\n",
              "<script>\n",
              "    $$('#bottommenudo li.menu_item ul li a').each(function(item){\n",
              "        \n",
              "        item.observe('click',show_loading);\n",
              "    });\n",
              "    \n",
              "    </script>\n",
              "<script type=\"text/javascript\">\n",
              "\n",
              " var _gaq = _gaq || [];\n",
              " _gaq.push(['_setAccount', 'UA-2075393-2']);\n",
              " _gaq.push(['_trackPageview']);\n",
              "\n",
              " (function() {\n",
              "   var ga = document.createElement('script'); ga.type =\n",
              "'text/javascript'; ga.async = true;\n",
              "   ga.src = ('https:' == document.location.protocol ? 'https://ssl' :\n",
              "'http://www') + '.google-analytics.com/ga.js';\n",
              "   var s = document.getElementsByTagName('script')[0];\n",
              "s.parentNode.insertBefore(ga, s);\n",
              " })();\n",
              "\n",
              "</script>\n",
              "</body>\n",
              "</html></div>"
            ]
          },
          "metadata": {},
          "execution_count": 7
        }
      ],
      "source": [
        "# Render the HTML code in a readable format.\n",
        "HTML(f\"<div style='font-family:serif'>{str(transcript_bsoup)}</div>\")"
      ],
      "id": "yaZ83oUr-KLF"
    },
    {
      "cell_type": "markdown",
      "metadata": {
        "id": "M2tMBUdtj2Lp"
      },
      "source": [
        "From the above HTML rendering, we make the following observations (feel free to re-run the above cells to randomly choose a different .html file):\n",
        "\n",
        "* each episode includes a _title_ (e.g., \"Keeping Up With the Kardashians - Shape Up or Ship Out\"), and\n",
        "\n",
        "* each _utterance_ in the transcript always begins with a timestamp, and is only followed by a \">>\" when there's a transition between speakers. For example,\n",
        "> 00:00:09 >> KENDALL: Right. <br/>\n",
        "> 00:00:11 <font color=\"green\">>></font> KRIS: Right. <font color=\"green\">← indicates reply</font>\n",
        "\n",
        " indicates that KRIS replied to KENDALL; vs.\n",
        "\n",
        " > 00:00:15 >> KHLOE: Mom, that is ridiculous. <font color=\"green\">← first utterance</font> <br/>\n",
        " > 00:00:20 Are you kidding? <font color=\"green\">← second utterance</font>\n",
        "\n",
        " indicates that the character (here, KHLOE) has already begun speaking, and is continuing their chain of thought. (There are a few irregularities, which we will handle later.)\n",
        "\n"
      ],
      "id": "M2tMBUdtj2Lp"
    },
    {
      "cell_type": "markdown",
      "metadata": {
        "id": "8beOCBWqVI6Y"
      },
      "source": [
        "From the HTML code, we can extract the _title_ of the transcript by looking for the HTML element with the `\"id\"` attribute set to `\"title\"`. (As a reminder: this easy \"lookup\" is facilitated through the use of BeautifulSoup; so, from hereon when we refer to `transcript_bsoup` within code, we're referring to the associated BeautifulSoup object.)"
      ],
      "id": "8beOCBWqVI6Y"
    },
    {
      "cell_type": "code",
      "execution_count": 8,
      "metadata": {
        "id": "mgSdfhQgBE8Q",
        "colab": {
          "base_uri": "https://localhost:8080/"
        },
        "outputId": "043a0e47-a059-4dc5-e0d1-78b21306262f"
      },
      "outputs": [
        {
          "output_type": "stream",
          "name": "stdout",
          "text": [
            "Keeping Up With the Kardashians - A New Perspective in New Orleans\n"
          ]
        }
      ],
      "source": [
        "# Retrieve the \"title\" of the episode.\n",
        "title = transcript_bsoup.find(attrs={\"id\": \"title\"})\n",
        "print(title.get_text() if title is not None else colored(\"something went wrong!\", \"red\"))"
      ],
      "id": "mgSdfhQgBE8Q"
    },
    {
      "cell_type": "markdown",
      "metadata": {
        "id": "XwEuJ1b3q3cL"
      },
      "source": [
        "Similarly, we can extract the conversation in the transcript by querying for `\"tr\"`s (table rows); each utterance in the conversation is a table row with exactly two cells, one containing the timestamp, the other the text.\n",
        "\n",
        "> __Tip.__ `&gt;&gt;` (\"gt\" for greater than) in HTML code is rendered as \">>\"."
      ],
      "id": "XwEuJ1b3q3cL"
    },
    {
      "cell_type": "code",
      "execution_count": 9,
      "metadata": {
        "id": "YZys7ZfTqtRX",
        "colab": {
          "base_uri": "https://localhost:8080/"
        },
        "outputId": "357c1847-79ae-4393-f9ac-4390d2397496"
      },
      "outputs": [
        {
          "output_type": "stream",
          "name": "stdout",
          "text": [
            "\u001b[91m(for brevity, logging only 5 entries below)\u001b[0m \n",
            "\n",
            "[]\n"
          ]
        }
      ],
      "source": [
        "print(colored(\"(for brevity, logging only 5 entries below)\", \"red\"), \"\\n\")\n",
        "pp.pprint(transcript_bsoup.findAll(\"tr\")[100: 105])"
      ],
      "id": "YZys7ZfTqtRX"
    },
    {
      "cell_type": "markdown",
      "metadata": {
        "id": "qaNM5H98sDwO"
      },
      "source": [
        "<a name=\"sec11\"></a>\n",
        "#### [1.1] Preprocessing for \"valid\" dialogue [↩︎](#outline)\n",
        "\n",
        "Thinking back to: \"[...] There are a few irregularities, which we will handle later.\"; yes, _later_ is now! Okay, from our inspections, we note the transcripts to contain the following irregularities:\n",
        "\n",
        "* A few utterances are prepended with information about the actions of some characters, and we plan to remove such actions for simplicity. For example,\n",
        "> <font color=\"green\">~(Kourtney and Khloe laughing)~</font> >> BRUCE: Sometimes, I can get so disappointed with these girls.\n",
        "\n",
        "* When characters take turns in quick succession, we may have multiple characters speaking in the same line; here, we wish to break the utterances onto different lines. For example,\n",
        "> \\>> SCOTT: Three? <font color=\"green\">>> KOURTNEY: Yeah.</font>\n",
        "\n",
        "* You may have noticed that the character names are all capitalized (e.g., KHLOE); when this isn't the case, we ignore that particular utterance.\n",
        "\n",
        "* Next, we also want to ensure that the utterance starts with a valid character (an alphabet, a digit, or one of `[., ?, !, $, \", ']`); if not, we can ignore the specific utterance.\n",
        "\n",
        "* Finally, for completeness, we also wish to ensure that an utterance is \"valid\": an utterance is invalid when no speaker has been marked yet, but the utterance appears to be a continuing conversation. For instance, consider a transcript that _starts_ as follows:\n",
        ">\n",
        "> 00:00:00 I am. <font color=\"green\">← first utterance in the transcript: ill-formatted, missing \">>\" and speaker name</font> <br/>\n",
        "> 00:00:20 >> SCOTT: Three?\n",
        "\n",
        "We already provide you with the code to preprocess a given .html transcript file that ensures the above irregularities are normalized/removed: see `KardashiansTranscriptParser` class in `data_processing/transcript_parser.py`. (We strongly recommend looking at the class and its methods, or at the very least the documentation provided for each class method.)"
      ],
      "id": "qaNM5H98sDwO"
    },
    {
      "cell_type": "markdown",
      "metadata": {
        "id": "LfjBQNOfVFPm"
      },
      "source": [
        "Let's run the `KardashiansTranscriptParser` for the sample transcript file; the parser returns a tuple of the transcript unique identifier (UID) string, transcript title string, and the transcript content (conversation). Observe the format of the returned transcript content."
      ],
      "id": "LfjBQNOfVFPm"
    },
    {
      "cell_type": "code",
      "execution_count": 10,
      "metadata": {
        "id": "UEppFR1PrJRb",
        "colab": {
          "base_uri": "https://localhost:8080/"
        },
        "outputId": "d61c2d4f-cc74-47de-8db9-fdbd3c4bd99c"
      },
      "outputs": [
        {
          "output_type": "stream",
          "name": "stdout",
          "text": [
            "\u001b[4mfilepath\u001b[0m\u001b[0m: /content/drive/MyDrive/CS4300/a0/dataset/livedash_\u001b[94mkardashians3/514592\u001b[0m.html\n",
            "\u001b[4muid\u001b[0m\u001b[0m: \u001b[94mkardashians3/514592\u001b[0m\n",
            "\n",
            "\u001b[4mtitle\u001b[0m\u001b[0m: Keeping Up With the Kardashians - A New Perspective in New Orleans\n",
            "\n",
            "\u001b[4mtranscript content\u001b[0m\u001b[0m:\n",
            "\u001b[91m(for brevity, only the first 10 entries are shown below.)\u001b[0m\n",
            "\n",
            "[]\n"
          ]
        }
      ],
      "source": [
        "transcript_parser = KardashiansTranscriptParser()\n",
        "random_transcript_uid, random_transcript_title, random_transcript_convo = transcript_parser.parse(\n",
        "    transcript_filepath=random_transcript_filepath\n",
        ")\n",
        "\n",
        "# The transcript UID is extracted from the filepath.\n",
        "print(\n",
        "    f\"{colored('filepath', attrs=['underline'])}: \"\n",
        "    f\"{random_transcript_filepath.split('_')[0]}_{colored(random_transcript_filepath.split('_')[1][:-5], 'blue')}.html\"\n",
        "    f\"\\n{colored('uid', attrs=['underline'])}: {colored(random_transcript_uid, 'blue')}\"\n",
        ")\n",
        "\n",
        "# The transcript title is extracted as shown before.\n",
        "print(f\"\\n{colored('title', attrs=['underline'])}: {random_transcript_title}\")\n",
        "\n",
        "# The transcript conversation is processed to normalize for irregularities.\n",
        "print(\n",
        "    f\"\\n{colored('transcript content', attrs=['underline'])}:\\n\"\n",
        "    f\"{colored('(for brevity, only the first 10 entries are shown below.)', 'red')}\\n\"\n",
        ")\n",
        "pp.pprint(random_transcript_convo[:10])"
      ],
      "id": "UEppFR1PrJRb"
    },
    {
      "cell_type": "markdown",
      "metadata": {
        "id": "2-nytA2-iwUA"
      },
      "source": [
        "<a name=\"sec12\"></a>\n",
        "#### [1.2] Preprocessing transcripts for analysis [↩︎](#outline)\n",
        "\n",
        "Now that we have our transcript parser (a.k.a., `KardashiansTranscriptParser`), we can preprocess all the transcript files provided in the `dataset/` folder. To this end, we will build two dictionaries:\n",
        "* `titles` that maps a `trascript_uid` (unique identifier) to the associated transcript title, and\n",
        "* `transcripts` that maps a `trascript_uid` to the parsed transcript content.\n",
        "\n",
        "> __Note.__ The following cell takes less than 2 minutes to complete processing all 294 transcript files."
      ],
      "id": "2-nytA2-iwUA"
    },
    {
      "cell_type": "code",
      "execution_count": 11,
      "metadata": {
        "id": "lo67O8aePXJa",
        "colab": {
          "base_uri": "https://localhost:8080/"
        },
        "outputId": "078c2cae-7512-41a1-fa00-c5e52431c5d4"
      },
      "outputs": [
        {
          "output_type": "stream",
          "name": "stdout",
          "text": [
            "294 transcript files processed in 0.95 minutes\n"
          ]
        }
      ],
      "source": [
        "titles, transcripts = {}, {}\n",
        "transcript_parser = KardashiansTranscriptParser()\n",
        "\n",
        "_start_time = process_time()\n",
        "for filepath in glob(f\"{DATASET_DIR}/**/*\"):\n",
        "    if os.path.splitext(filepath)[1].lower() == \".html\":\n",
        "        uid, title, transcript = transcript_parser.parse(transcript_filepath=filepath)\n",
        "        titles[uid] = title\n",
        "        transcripts[uid] = transcript\n",
        "time_taken = process_time() - _start_time\n",
        "\n",
        "print(f\"{len(titles.keys())} transcript files processed in {round(time_taken / 60, 2)} minutes\")"
      ],
      "id": "lo67O8aePXJa"
    },
    {
      "cell_type": "markdown",
      "source": [
        "In the future assignments, we will be analyzing the _language_ used by the central characters in the show. It turns out that one of the characters is referred to by two different names, Rob and Robert. We provide a helper function `replace_speaker_name` (in `src/data_processing/analysis.py`), which can be used to replace a specified name with a new one.\n",
        "\n",
        "Run the cell below to replace all occurrences of \"ROB\" with \"ROBERT\"."
      ],
      "metadata": {
        "id": "EdHQffw-uXci"
      },
      "id": "EdHQffw-uXci"
    },
    {
      "cell_type": "code",
      "source": [
        "total_transcript_keys_before_processing = len(transcripts.keys())\n",
        "\n",
        "# Replace the speaker name \"ROB\" with \"ROBERT\"\n",
        "transcripts = replace_speaker_name(input_transcripts=transcripts, original_name=\"ROB\", replacement_name=\"ROBERT\")\n",
        "\n",
        "assert len(transcripts.keys()) == total_transcript_keys_before_processing"
      ],
      "metadata": {
        "id": "XMssM_lrudjf",
        "colab": {
          "base_uri": "https://localhost:8080/"
        },
        "outputId": "64ffcda6-c514-4f39-eea7-c63b08746380"
      },
      "id": "XMssM_lrudjf",
      "execution_count": 12,
      "outputs": [
        {
          "output_type": "stream",
          "name": "stdout",
          "text": [
            "[DEBUG]\treplace_speaker_name ran in: 0.03023 seconds\n"
          ]
        }
      ]
    },
    {
      "cell_type": "markdown",
      "metadata": {
        "id": "0BHFsn73miVA"
      },
      "source": [
        "Let's go ahead and save the `titles` and `transcripts` dictionaries as .json files (so we don't have to waste compute in redundantly preprocessing the data again). For your convenience, we provide `save_dict_to_json` and `load_dict_from_json` helper methods in `src/utils/utils.py` file.\n",
        "\n",
        "Running the following cell will save the `titles` dictionary to `artefacts/processed_data/titles.json` and `transcripts` dictionary to `artefacts/processed_data/transcripts.json`."
      ],
      "id": "0BHFsn73miVA"
    },
    {
      "cell_type": "code",
      "execution_count": 13,
      "metadata": {
        "id": "l-vBBoaek2rV",
        "colab": {
          "base_uri": "https://localhost:8080/"
        },
        "outputId": "dc1da8df-1e69-45f4-855a-5cbc33fbf57a"
      },
      "outputs": [
        {
          "output_type": "stream",
          "name": "stdout",
          "text": [
            "dict saved to: \u001b[94m/content/drive/MyDrive/CS4300/a0/artefacts/processed_data/titles.json\u001b[0m\n",
            "dict saved to: \u001b[94m/content/drive/MyDrive/CS4300/a0/artefacts/processed_data/transcripts.json\u001b[0m\n"
          ]
        }
      ],
      "source": [
        "save_dict_to_json(dict_to_save=titles, filepath=os.path.join(ARTEFACTS_DIR, \"processed_data/titles.json\"))\n",
        "save_dict_to_json(dict_to_save=transcripts, filepath=os.path.join(ARTEFACTS_DIR, \"processed_data/transcripts.json\"))"
      ],
      "id": "l-vBBoaek2rV"
    },
    {
      "cell_type": "markdown",
      "source": [
        "Let's re-load the dictionaries from the saved .json files and ensure all is as expected."
      ],
      "metadata": {
        "id": "3J3fTpt5p59Q"
      },
      "id": "3J3fTpt5p59Q"
    },
    {
      "cell_type": "code",
      "execution_count": 14,
      "metadata": {
        "id": "NLfNtDyHmddp"
      },
      "outputs": [],
      "source": [
        "titles = load_dict_from_json(filepath=os.path.join(ARTEFACTS_DIR, \"processed_data/titles.json\"))\n",
        "transcripts = load_dict_from_json(filepath=os.path.join(ARTEFACTS_DIR, \"processed_data/transcripts.json\"))\n",
        "\n",
        "assert titles is not None\n",
        "assert transcripts is not None"
      ],
      "id": "NLfNtDyHmddp"
    },
    {
      "cell_type": "markdown",
      "source": [
        "Finally, before proceeding, let's marvel at the scale we're dealing with: run the cell below to count the total number of messages stored in the transcripts."
      ],
      "metadata": {
        "id": "2vH7dWvFuJN2"
      },
      "id": "2vH7dWvFuJN2"
    },
    {
      "cell_type": "code",
      "source": [
        "num_messages = sum(map(lambda transcript: len(transcript), transcripts.values()))\n",
        "print(f\"{len(transcripts.keys())} transcript files w/ {colored(str(num_messages) + ' messages', 'blue')}!\")"
      ],
      "metadata": {
        "id": "Jh2V69HQq55n",
        "colab": {
          "base_uri": "https://localhost:8080/"
        },
        "outputId": "3041bdeb-a4df-4b51-831b-d7eae866d5db"
      },
      "id": "Jh2V69HQq55n",
      "execution_count": 15,
      "outputs": [
        {
          "output_type": "stream",
          "name": "stdout",
          "text": [
            "294 transcript files w/ \u001b[94m202457 messages\u001b[0m!\n"
          ]
        }
      ]
    },
    {
      "cell_type": "markdown",
      "source": [
        "---\n",
        "\n",
        "<a name=\"sec2\"></a>\n",
        "### [2] Well, _how much_ does a Kardashian talk!? <small>[↩︎](#outline)</small>\n",
        "\n",
        "> <font color=\"orange\">File to be edited: `src/data_processing/analysis.py`.\n",
        "\n",
        "Upon inspection, we noticed that a single episode (indicated by the title of the episode) could be transcribed over multiple transcript files, resulting in data duplicates. To this end, we wish to determine the total number of distinct episodes in the given files.\n",
        "\n",
        "Please complete <font color=\"orange\">`TODO-2.1`</font> in `num_episodes` method within `src/data_processing/analysis.py`. Upon completion, run the cell below to count the total number of episodes in all the transcript files."
      ],
      "metadata": {
        "id": "yYMQbZSD3nTT"
      },
      "id": "yYMQbZSD3nTT"
    },
    {
      "cell_type": "code",
      "source": [
        "total_episodes = num_episodes(input_titles=titles)\n",
        "\n",
        "# Check that `num_episodes` returns the expected output.\n",
        "assert total_episodes == 56, f\"{total_episodes} titles != 56\""
      ],
      "metadata": {
        "id": "Ux2oB0GprrWs",
        "colab": {
          "base_uri": "https://localhost:8080/"
        },
        "outputId": "f61d08a9-632a-4419-9de4-3f4454799c20"
      },
      "id": "Ux2oB0GprrWs",
      "execution_count": 16,
      "outputs": [
        {
          "output_type": "stream",
          "name": "stdout",
          "text": [
            "[DEBUG]\tnum_episodes ran in: 0.00003 seconds\n"
          ]
        }
      ]
    },
    {
      "cell_type": "markdown",
      "source": [
        "We're often interested in the number of times a specific character speaks across episodes. To this end, complete <font color=\"orange\">`TODO-2.2`</font> in `num_speaker_utterances` method within `src/data_processing/analysis.py`. Upon completion, run the cell below to count the total number of utterances by the speaker \"ROBERT\" in all the transcript files.\n",
        "\n",
        "(As an aside: such analysis has broader implications beyond this assignment; for example, analyzing the frequency of native vs. non-native speaker utterances in a controlled setting could be extremely insightful!)"
      ],
      "metadata": {
        "id": "yeXA7kIn6vFE"
      },
      "id": "yeXA7kIn6vFE"
    },
    {
      "cell_type": "code",
      "source": [
        "num_robert_utterances = num_speaker_utterances(input_transcripts=transcripts, speaker=\"ROBERT\")\n",
        "\n",
        "# Check that `num_robert_utterances` returns an output in the following range.\n",
        "assert num_robert_utterances >= 18117, f\"{num_robert_utterances} utterances < 18,117\"\n",
        "assert num_robert_utterances <= 18591, f\"{num_robert_utterances} utterances > 18,591\""
      ],
      "metadata": {
        "id": "s4uvk8aL6a4i",
        "colab": {
          "base_uri": "https://localhost:8080/"
        },
        "outputId": "3f0d8d16-4d0e-428c-d323-dc66d04e5478"
      },
      "id": "s4uvk8aL6a4i",
      "execution_count": 17,
      "outputs": [
        {
          "output_type": "stream",
          "name": "stdout",
          "text": [
            "[DEBUG]\tnum_speaker_utterances ran in: 0.02572 seconds\n"
          ]
        }
      ]
    },
    {
      "cell_type": "markdown",
      "source": [
        "---\n",
        "\n",
        "<a name=\"final\"></a>\n",
        "### [$\\ast$] Final submission <small>[↩︎](#outline)</small>\n",
        "\n",
        "Hurray! Now that we've successfully completed the code for analysis, let's bundle everything up and make a submission on Gradescope. Running the cell below will generate `a0_submission.zip` in the `CS4300/a0/artefacts` folder.\n",
        "\n",
        "<font color=\"red\">Caution: the script will overwrite any file named `a0_submission.zip` existing in `CS4300/a0/artefacts` folder.</font>\n",
        "\n",
        "> __Tip.__ For any of the scripts provided, you can run `!<command-name> --help` to see the arguments of the command! <br/>\n",
        "(Replace the `<command-name>` accordingly.)\n",
        "\n",
        "You will need to submit the `a0_submission.zip` and a .pdf version of this notebook file to Gradescope as follows:\n",
        "\n",
        "*  Upload `artefacts/a0_submission.zip` to the Gradescope assignment [A0 code](https://www.gradescope.com/courses/709539/assignments/3988439). Upon submission, the autograder will automatically run \"public\" tests; however, as noted earlier, for your final autograder score, we will run your code through several additional \"hidden\" test cases.\n",
        "\n",
        "* Submit a .pdf version of this notebook file (_don't_ clear out the run outputs) to the [A0 notebook [.pdf file]](https://www.gradescope.com/courses/709539/assignments/3988480) Gradescope assignment.\n",
        "\n",
        "Note: the .pdf of this notebook you submit will only be used for record-keeping; you will _not_ be graded on any code in this notebook file."
      ],
      "metadata": {
        "id": "9WJ8d8xa0gf9"
      },
      "id": "9WJ8d8xa0gf9"
    },
    {
      "cell_type": "code",
      "source": [
        "!make_submission.py \\\n",
        "    --basepath-to-store-submission={ARTEFACTS_DIR} \\\n",
        "    --net-id={net_id}\n",
        "\n",
        "if os.path.isfile(f\"{os.path.join(ARTEFACTS_DIR, 'a0_submission.zip')}\"):\n",
        "    display(success())\n",
        "else:\n",
        "    print(colored(\"Oops, something went wrong!\", \"red\"))"
      ],
      "metadata": {
        "id": "33RVAfBLCYt9",
        "colab": {
          "base_uri": "https://localhost:8080/",
          "height": 334
        },
        "outputId": "727c127f-7eca-4efa-b5b8-d3205f8d3ccd"
      },
      "id": "33RVAfBLCYt9",
      "execution_count": 18,
      "outputs": [
        {
          "output_type": "stream",
          "name": "stdout",
          "text": [
            "submission stored at: \u001b[94m/content/drive/MyDrive/CS4300/a0/artefacts/a0_submission.zip\u001b[0m\n",
            "\n",
            "\u001b[92mSuccess!\n",
            "\u001b[0m"
          ]
        },
        {
          "output_type": "display_data",
          "data": {
            "text/plain": [
              "<IPython.core.display.HTML object>"
            ],
            "text/html": [
              "<video alt=\"success, happy puppy!\" width=\"400\" height=\"240\" controls autoplay=1>\n",
              "                <source src=\"https://openpuppies.com/mp4/MVUdQYK.mp4\" type=\"video/mp4\"/> \n",
              "            </video>"
            ]
          },
          "metadata": {}
        }
      ]
    },
    {
      "cell_type": "code",
      "source": [],
      "metadata": {
        "id": "ubbaP4pc-HUF"
      },
      "id": "ubbaP4pc-HUF",
      "execution_count": 18,
      "outputs": []
    }
  ],
  "metadata": {
    "colab": {
      "provenance": [],
      "include_colab_link": true
    },
    "kernelspec": {
      "display_name": "Python 3 (ipykernel)",
      "language": "python",
      "name": "python3"
    },
    "language_info": {
      "codemirror_mode": {
        "name": "ipython",
        "version": 3
      },
      "file_extension": ".py",
      "mimetype": "text/x-python",
      "name": "python",
      "nbconvert_exporter": "python",
      "pygments_lexer": "ipython3",
      "version": "3.9.6"
    }
  },
  "nbformat": 4,
  "nbformat_minor": 5
}